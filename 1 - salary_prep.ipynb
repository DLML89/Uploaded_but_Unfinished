{
 "cells": [
  {
   "cell_type": "code",
   "execution_count": 175,
   "id": "265fa77d",
   "metadata": {},
   "outputs": [],
   "source": [
    "import pandas as pd\n",
    "import numpy as np\n",
    "import category_encoders as ce\n",
    "import seaborn as sns\n",
    "import matplotlib.pyplot as plt\n",
    "import os"
   ]
  },
  {
   "cell_type": "code",
   "execution_count": 176,
   "id": "a1e4b797",
   "metadata": {},
   "outputs": [],
   "source": [
    "raw = pd.read_csv('Salary_Data.csv')"
   ]
  },
  {
   "cell_type": "code",
   "execution_count": 177,
   "id": "ef91e588",
   "metadata": {},
   "outputs": [
    {
     "data": {
      "application/vnd.microsoft.datawrangler.viewer.v0+json": {
       "columns": [
        {
         "name": "index",
         "rawType": "int64",
         "type": "integer"
        },
        {
         "name": "Age",
         "rawType": "float64",
         "type": "float"
        },
        {
         "name": "Gender",
         "rawType": "object",
         "type": "unknown"
        },
        {
         "name": "Education Level",
         "rawType": "object",
         "type": "unknown"
        },
        {
         "name": "Job Title",
         "rawType": "object",
         "type": "unknown"
        },
        {
         "name": "Years of Experience",
         "rawType": "float64",
         "type": "float"
        },
        {
         "name": "Salary",
         "rawType": "float64",
         "type": "float"
        }
       ],
       "ref": "24944fef-0066-4177-b759-90280a736950",
       "rows": [
        [
         "0",
         "32.0",
         "Male",
         "Bachelor's",
         "Software Engineer",
         "5.0",
         "90000.0"
        ],
        [
         "1",
         "28.0",
         "Female",
         "Master's",
         "Data Analyst",
         "3.0",
         "65000.0"
        ],
        [
         "2",
         "45.0",
         "Male",
         "PhD",
         "Senior Manager",
         "15.0",
         "150000.0"
        ],
        [
         "3",
         "36.0",
         "Female",
         "Bachelor's",
         "Sales Associate",
         "7.0",
         "60000.0"
        ],
        [
         "4",
         "52.0",
         "Male",
         "Master's",
         "Director",
         "20.0",
         "200000.0"
        ],
        [
         "5",
         "29.0",
         "Male",
         "Bachelor's",
         "Marketing Analyst",
         "2.0",
         "55000.0"
        ],
        [
         "6",
         "42.0",
         "Female",
         "Master's",
         "Product Manager",
         "12.0",
         "120000.0"
        ],
        [
         "7",
         "31.0",
         "Male",
         "Bachelor's",
         "Sales Manager",
         "4.0",
         "80000.0"
        ],
        [
         "8",
         "26.0",
         "Female",
         "Bachelor's",
         "Marketing Coordinator",
         "1.0",
         "45000.0"
        ],
        [
         "9",
         "38.0",
         "Male",
         "PhD",
         "Senior Scientist",
         "10.0",
         "110000.0"
        ],
        [
         "10",
         "29.0",
         "Male",
         "Master's",
         "Software Developer",
         "3.0",
         "75000.0"
        ],
        [
         "11",
         "48.0",
         "Female",
         "Bachelor's",
         "HR Manager",
         "18.0",
         "140000.0"
        ],
        [
         "12",
         "35.0",
         "Male",
         "Bachelor's",
         "Financial Analyst",
         "6.0",
         "65000.0"
        ],
        [
         "13",
         "40.0",
         "Female",
         "Master's",
         "Project Manager",
         "14.0",
         "130000.0"
        ],
        [
         "14",
         "27.0",
         "Male",
         "Bachelor's",
         "Customer Service Rep",
         "2.0",
         "40000.0"
        ],
        [
         "15",
         "44.0",
         "Male",
         "Bachelor's",
         "Operations Manager",
         "16.0",
         "125000.0"
        ],
        [
         "16",
         "33.0",
         "Female",
         "Master's",
         "Marketing Manager",
         "7.0",
         "90000.0"
        ],
        [
         "17",
         "39.0",
         "Male",
         "PhD",
         "Senior Engineer",
         "12.0",
         "115000.0"
        ],
        [
         "18",
         "25.0",
         "Female",
         "Bachelor's",
         "Data Entry Clerk",
         "0.0",
         "35000.0"
        ],
        [
         "19",
         "51.0",
         "Male",
         "Bachelor's",
         "Sales Director",
         "22.0",
         "180000.0"
        ],
        [
         "20",
         "34.0",
         "Female",
         "Master's",
         "Business Analyst",
         "5.0",
         "80000.0"
        ],
        [
         "21",
         "47.0",
         "Male",
         "Master's",
         "VP of Operations",
         "19.0",
         "190000.0"
        ],
        [
         "22",
         "30.0",
         "Male",
         "Bachelor's",
         "IT Support",
         "2.0",
         "50000.0"
        ],
        [
         "23",
         "36.0",
         "Female",
         "Bachelor's",
         "Recruiter",
         "9.0",
         "60000.0"
        ],
        [
         "24",
         "41.0",
         "Male",
         "Master's",
         "Financial Manager",
         "13.0",
         "140000.0"
        ],
        [
         "25",
         "28.0",
         "Female",
         "Bachelor's",
         "Social Media Specialist",
         "3.0",
         "45000.0"
        ],
        [
         "26",
         "37.0",
         "Female",
         "Master's",
         "Software Manager",
         "11.0",
         "110000.0"
        ],
        [
         "27",
         "24.0",
         "Male",
         "Bachelor's",
         "Junior Developer",
         "1.0",
         "40000.0"
        ],
        [
         "28",
         "43.0",
         "Female",
         "PhD",
         "Senior Consultant",
         "15.0",
         "140000.0"
        ],
        [
         "29",
         "33.0",
         "Male",
         "Master's",
         "Product Designer",
         "6.0",
         "90000.0"
        ],
        [
         "30",
         "50.0",
         "Male",
         "Bachelor's",
         "CEO",
         "25.0",
         "250000.0"
        ],
        [
         "31",
         "31.0",
         "Female",
         "Bachelor's",
         "Accountant",
         "4.0",
         "55000.0"
        ],
        [
         "32",
         "29.0",
         "Male",
         "Master's",
         "Data Scientist",
         "3.0",
         "75000.0"
        ],
        [
         "33",
         "39.0",
         "Female",
         "Bachelor's",
         "Marketing Specialist",
         "10.0",
         "65000.0"
        ],
        [
         "34",
         "46.0",
         "Male",
         "PhD",
         "Senior Manager",
         "20.0",
         "170000.0"
        ],
        [
         "35",
         "27.0",
         "Male",
         "Bachelor's",
         "Technical Writer",
         "2.0",
         "45000.0"
        ],
        [
         "36",
         "35.0",
         "Female",
         "Bachelor's",
         "HR Generalist",
         "7.0",
         "60000.0"
        ],
        [
         "37",
         "42.0",
         "Male",
         "Master's",
         "Project Engineer",
         "14.0",
         "115000.0"
        ],
        [
         "38",
         "26.0",
         "Female",
         "Bachelor's",
         "Customer Success Rep",
         "1.0",
         "40000.0"
        ],
        [
         "39",
         "49.0",
         "Male",
         "Bachelor's",
         "Sales Executive",
         "21.0",
         "160000.0"
        ],
        [
         "40",
         "34.0",
         "Female",
         "Master's",
         "UX Designer",
         "5.0",
         "80000.0"
        ],
        [
         "41",
         "48.0",
         "Male",
         "Master's",
         "Operations Director",
         "18.0",
         "190000.0"
        ],
        [
         "42",
         "30.0",
         "Male",
         "Bachelor's",
         "Network Engineer",
         "3.0",
         "60000.0"
        ],
        [
         "43",
         "36.0",
         "Female",
         "Bachelor's",
         "Administrative Assistant",
         "8.0",
         "45000.0"
        ],
        [
         "44",
         "41.0",
         "Male",
         "Master's",
         "Strategy Consultant",
         "13.0",
         "130000.0"
        ],
        [
         "45",
         "28.0",
         "Female",
         "Bachelor's",
         "Copywriter",
         "2.0",
         "40000.0"
        ],
        [
         "46",
         "32.0",
         "Male",
         "Bachelor's",
         "Account Manager",
         "5.0",
         "75000.0"
        ],
        [
         "47",
         "45.0",
         "Female",
         "Master's",
         "Director of Marketing",
         "16.0",
         "180000.0"
        ],
        [
         "48",
         "38.0",
         "Male",
         "PhD",
         "Senior Scientist",
         "11.0",
         "120000.0"
        ],
        [
         "49",
         "25.0",
         "Male",
         "Bachelor's",
         "Help Desk Analyst",
         "0.0",
         "35000.0"
        ]
       ],
       "shape": {
        "columns": 6,
        "rows": 6704
       }
      },
      "text/html": [
       "<div>\n",
       "<style scoped>\n",
       "    .dataframe tbody tr th:only-of-type {\n",
       "        vertical-align: middle;\n",
       "    }\n",
       "\n",
       "    .dataframe tbody tr th {\n",
       "        vertical-align: top;\n",
       "    }\n",
       "\n",
       "    .dataframe thead th {\n",
       "        text-align: right;\n",
       "    }\n",
       "</style>\n",
       "<table border=\"1\" class=\"dataframe\">\n",
       "  <thead>\n",
       "    <tr style=\"text-align: right;\">\n",
       "      <th></th>\n",
       "      <th>Age</th>\n",
       "      <th>Gender</th>\n",
       "      <th>Education Level</th>\n",
       "      <th>Job Title</th>\n",
       "      <th>Years of Experience</th>\n",
       "      <th>Salary</th>\n",
       "    </tr>\n",
       "  </thead>\n",
       "  <tbody>\n",
       "    <tr>\n",
       "      <th>0</th>\n",
       "      <td>32.0</td>\n",
       "      <td>Male</td>\n",
       "      <td>Bachelor's</td>\n",
       "      <td>Software Engineer</td>\n",
       "      <td>5.0</td>\n",
       "      <td>90000.0</td>\n",
       "    </tr>\n",
       "    <tr>\n",
       "      <th>1</th>\n",
       "      <td>28.0</td>\n",
       "      <td>Female</td>\n",
       "      <td>Master's</td>\n",
       "      <td>Data Analyst</td>\n",
       "      <td>3.0</td>\n",
       "      <td>65000.0</td>\n",
       "    </tr>\n",
       "    <tr>\n",
       "      <th>2</th>\n",
       "      <td>45.0</td>\n",
       "      <td>Male</td>\n",
       "      <td>PhD</td>\n",
       "      <td>Senior Manager</td>\n",
       "      <td>15.0</td>\n",
       "      <td>150000.0</td>\n",
       "    </tr>\n",
       "    <tr>\n",
       "      <th>3</th>\n",
       "      <td>36.0</td>\n",
       "      <td>Female</td>\n",
       "      <td>Bachelor's</td>\n",
       "      <td>Sales Associate</td>\n",
       "      <td>7.0</td>\n",
       "      <td>60000.0</td>\n",
       "    </tr>\n",
       "    <tr>\n",
       "      <th>4</th>\n",
       "      <td>52.0</td>\n",
       "      <td>Male</td>\n",
       "      <td>Master's</td>\n",
       "      <td>Director</td>\n",
       "      <td>20.0</td>\n",
       "      <td>200000.0</td>\n",
       "    </tr>\n",
       "    <tr>\n",
       "      <th>...</th>\n",
       "      <td>...</td>\n",
       "      <td>...</td>\n",
       "      <td>...</td>\n",
       "      <td>...</td>\n",
       "      <td>...</td>\n",
       "      <td>...</td>\n",
       "    </tr>\n",
       "    <tr>\n",
       "      <th>6699</th>\n",
       "      <td>49.0</td>\n",
       "      <td>Female</td>\n",
       "      <td>PhD</td>\n",
       "      <td>Director of Marketing</td>\n",
       "      <td>20.0</td>\n",
       "      <td>200000.0</td>\n",
       "    </tr>\n",
       "    <tr>\n",
       "      <th>6700</th>\n",
       "      <td>32.0</td>\n",
       "      <td>Male</td>\n",
       "      <td>High School</td>\n",
       "      <td>Sales Associate</td>\n",
       "      <td>3.0</td>\n",
       "      <td>50000.0</td>\n",
       "    </tr>\n",
       "    <tr>\n",
       "      <th>6701</th>\n",
       "      <td>30.0</td>\n",
       "      <td>Female</td>\n",
       "      <td>Bachelor's Degree</td>\n",
       "      <td>Financial Manager</td>\n",
       "      <td>4.0</td>\n",
       "      <td>55000.0</td>\n",
       "    </tr>\n",
       "    <tr>\n",
       "      <th>6702</th>\n",
       "      <td>46.0</td>\n",
       "      <td>Male</td>\n",
       "      <td>Master's Degree</td>\n",
       "      <td>Marketing Manager</td>\n",
       "      <td>14.0</td>\n",
       "      <td>140000.0</td>\n",
       "    </tr>\n",
       "    <tr>\n",
       "      <th>6703</th>\n",
       "      <td>26.0</td>\n",
       "      <td>Female</td>\n",
       "      <td>High School</td>\n",
       "      <td>Sales Executive</td>\n",
       "      <td>1.0</td>\n",
       "      <td>35000.0</td>\n",
       "    </tr>\n",
       "  </tbody>\n",
       "</table>\n",
       "<p>6704 rows × 6 columns</p>\n",
       "</div>"
      ],
      "text/plain": [
       "       Age  Gender    Education Level              Job Title  \\\n",
       "0     32.0    Male         Bachelor's      Software Engineer   \n",
       "1     28.0  Female           Master's           Data Analyst   \n",
       "2     45.0    Male                PhD         Senior Manager   \n",
       "3     36.0  Female         Bachelor's        Sales Associate   \n",
       "4     52.0    Male           Master's               Director   \n",
       "...    ...     ...                ...                    ...   \n",
       "6699  49.0  Female                PhD  Director of Marketing   \n",
       "6700  32.0    Male        High School        Sales Associate   \n",
       "6701  30.0  Female  Bachelor's Degree      Financial Manager   \n",
       "6702  46.0    Male    Master's Degree      Marketing Manager   \n",
       "6703  26.0  Female        High School        Sales Executive   \n",
       "\n",
       "      Years of Experience    Salary  \n",
       "0                     5.0   90000.0  \n",
       "1                     3.0   65000.0  \n",
       "2                    15.0  150000.0  \n",
       "3                     7.0   60000.0  \n",
       "4                    20.0  200000.0  \n",
       "...                   ...       ...  \n",
       "6699                 20.0  200000.0  \n",
       "6700                  3.0   50000.0  \n",
       "6701                  4.0   55000.0  \n",
       "6702                 14.0  140000.0  \n",
       "6703                  1.0   35000.0  \n",
       "\n",
       "[6704 rows x 6 columns]"
      ]
     },
     "execution_count": 177,
     "metadata": {},
     "output_type": "execute_result"
    }
   ],
   "source": [
    "data = raw.copy()\n",
    "data"
   ]
  },
  {
   "cell_type": "code",
   "execution_count": null,
   "id": "be5fa7f0",
   "metadata": {},
   "outputs": [
    {
     "data": {
      "application/vnd.microsoft.datawrangler.viewer.v0+json": {
       "columns": [
        {
         "name": "Education Level",
         "rawType": "object",
         "type": "string"
        },
        {
         "name": "Salary",
         "rawType": "float64",
         "type": "float"
        }
       ],
       "ref": "792e4e88-51df-4090-9dad-d7a2fbc0d892",
       "rows": [
        [
         "PhD",
         "165651.4579985391"
        ],
        [
         "Master's",
         "130112.05645161291"
        ],
        [
         "Bachelor's",
         "95082.90863952333"
        ],
        [
         "High School",
         "36706.69419642857"
        ]
       ],
       "shape": {
        "columns": 1,
        "rows": 4
       }
      },
      "text/plain": [
       "Education Level\n",
       "PhD            165651.457999\n",
       "Master's       130112.056452\n",
       "Bachelor's      95082.908640\n",
       "High School     36706.694196\n",
       "Name: Salary, dtype: float64"
      ]
     },
     "execution_count": 178,
     "metadata": {},
     "output_type": "execute_result"
    }
   ],
   "source": [
    "data['Education Level'] = data['Education Level'].replace({'phD': 'PhD', \"Bachelor's Degree\": \"Bachelor's\", \"Master's Degree\":\"Master's\"})\n",
    "data.groupby('Education Level')['Salary'].mean().sort_values(ascending = False)"
   ]
  },
  {
   "cell_type": "code",
   "execution_count": 179,
   "id": "9df6ed3a",
   "metadata": {},
   "outputs": [],
   "source": [
    "data.dropna(axis=0, inplace = True)"
   ]
  },
  {
   "cell_type": "code",
   "execution_count": 180,
   "id": "4e71d843",
   "metadata": {},
   "outputs": [
    {
     "data": {
      "text/plain": [
       "array(['Software Engineer', 'Data Analyst', 'Senior Manager',\n",
       "       'Sales Associate', 'Director', 'Marketing Analyst',\n",
       "       'Product Manager', 'Sales Manager', 'Marketing Coordinator',\n",
       "       'Senior Scientist', 'Software Developer', 'HR Manager',\n",
       "       'Financial Analyst', 'Project Manager', 'Customer Service Rep',\n",
       "       'Operations Manager', 'Marketing Manager', 'Senior Engineer',\n",
       "       'Data Entry Clerk', 'Sales Director', 'Business Analyst',\n",
       "       'VP of Operations', 'IT Support', 'Recruiter', 'Financial Manager',\n",
       "       'Social Media Specialist', 'Software Manager', 'Junior Developer',\n",
       "       'Senior Consultant', 'Product Designer', 'CEO', 'Accountant',\n",
       "       'Data Scientist', 'Marketing Specialist', 'Technical Writer',\n",
       "       'HR Generalist', 'Project Engineer', 'Customer Success Rep',\n",
       "       'Sales Executive', 'UX Designer', 'Operations Director',\n",
       "       'Network Engineer', 'Administrative Assistant',\n",
       "       'Strategy Consultant', 'Copywriter', 'Account Manager',\n",
       "       'Director of Marketing', 'Help Desk Analyst',\n",
       "       'Customer Service Manager', 'Business Intelligence Analyst',\n",
       "       'Event Coordinator', 'VP of Finance', 'Graphic Designer',\n",
       "       'UX Researcher', 'Social Media Manager', 'Director of Operations',\n",
       "       'Senior Data Scientist', 'Junior Accountant',\n",
       "       'Digital Marketing Manager', 'IT Manager',\n",
       "       'Customer Service Representative', 'Business Development Manager',\n",
       "       'Senior Financial Analyst', 'Web Developer', 'Research Director',\n",
       "       'Technical Support Specialist', 'Creative Director',\n",
       "       'Senior Software Engineer', 'Human Resources Director',\n",
       "       'Content Marketing Manager', 'Technical Recruiter',\n",
       "       'Sales Representative', 'Chief Technology Officer',\n",
       "       'Junior Designer', 'Financial Advisor', 'Junior Account Manager',\n",
       "       'Senior Project Manager', 'Principal Scientist',\n",
       "       'Supply Chain Manager', 'Senior Marketing Manager',\n",
       "       'Training Specialist', 'Research Scientist',\n",
       "       'Junior Software Developer', 'Public Relations Manager',\n",
       "       'Operations Analyst', 'Product Marketing Manager',\n",
       "       'Senior HR Manager', 'Junior Web Developer',\n",
       "       'Senior Project Coordinator', 'Chief Data Officer',\n",
       "       'Digital Content Producer', 'IT Support Specialist',\n",
       "       'Senior Marketing Analyst', 'Customer Success Manager',\n",
       "       'Senior Graphic Designer', 'Software Project Manager',\n",
       "       'Supply Chain Analyst', 'Senior Business Analyst',\n",
       "       'Junior Marketing Analyst', 'Office Manager', 'Principal Engineer',\n",
       "       'Junior HR Generalist', 'Senior Product Manager',\n",
       "       'Junior Operations Analyst', 'Senior HR Generalist',\n",
       "       'Sales Operations Manager', 'Senior Software Developer',\n",
       "       'Junior Web Designer', 'Senior Training Specialist',\n",
       "       'Senior Research Scientist', 'Junior Sales Representative',\n",
       "       'Junior Marketing Manager', 'Junior Data Analyst',\n",
       "       'Senior Product Marketing Manager', 'Junior Business Analyst',\n",
       "       'Senior Sales Manager', 'Junior Marketing Specialist',\n",
       "       'Junior Project Manager', 'Senior Accountant', 'Director of Sales',\n",
       "       'Junior Recruiter', 'Senior Business Development Manager',\n",
       "       'Senior Product Designer', 'Junior Customer Support Specialist',\n",
       "       'Senior IT Support Specialist', 'Junior Financial Analyst',\n",
       "       'Senior Operations Manager', 'Director of Human Resources',\n",
       "       'Junior Software Engineer', 'Senior Sales Representative',\n",
       "       'Director of Product Management', 'Junior Copywriter',\n",
       "       'Senior Marketing Coordinator', 'Senior Human Resources Manager',\n",
       "       'Junior Business Development Associate', 'Senior Account Manager',\n",
       "       'Senior Researcher', 'Junior HR Coordinator',\n",
       "       'Director of Finance', 'Junior Marketing Coordinator',\n",
       "       'Junior Data Scientist', 'Senior Operations Analyst',\n",
       "       'Senior Human Resources Coordinator', 'Senior UX Designer',\n",
       "       'Junior Product Manager', 'Senior Marketing Specialist',\n",
       "       'Senior IT Project Manager', 'Senior Quality Assurance Analyst',\n",
       "       'Director of Sales and Marketing', 'Senior Account Executive',\n",
       "       'Director of Business Development', 'Junior Social Media Manager',\n",
       "       'Senior Human Resources Specialist', 'Senior Data Analyst',\n",
       "       'Director of Human Capital', 'Junior Advertising Coordinator',\n",
       "       'Junior UX Designer', 'Senior Marketing Director',\n",
       "       'Senior IT Consultant', 'Senior Financial Advisor',\n",
       "       'Junior Business Operations Analyst',\n",
       "       'Junior Social Media Specialist',\n",
       "       'Senior Product Development Manager', 'Junior Operations Manager',\n",
       "       'Senior Software Architect', 'Junior Research Scientist',\n",
       "       'Senior Financial Manager', 'Senior HR Specialist',\n",
       "       'Senior Data Engineer', 'Junior Operations Coordinator',\n",
       "       'Director of HR', 'Senior Operations Coordinator',\n",
       "       'Junior Financial Advisor', 'Director of Engineering',\n",
       "       'Software Engineer Manager', 'Back end Developer',\n",
       "       'Senior Project Engineer', 'Full Stack Engineer',\n",
       "       'Front end Developer', 'Front End Developer',\n",
       "       'Director of Data Science', 'Human Resources Coordinator',\n",
       "       'Junior Sales Associate', 'Human Resources Manager',\n",
       "       'Juniour HR Generalist', 'Juniour HR Coordinator',\n",
       "       'Digital Marketing Specialist', 'Receptionist',\n",
       "       'Marketing Director', 'Social Media Man', 'Delivery Driver'],\n",
       "      dtype=object)"
      ]
     },
     "execution_count": 180,
     "metadata": {},
     "output_type": "execute_result"
    }
   ],
   "source": [
    "data['Job Title'].unique()"
   ]
  },
  {
   "cell_type": "code",
   "execution_count": 181,
   "id": "1710909a",
   "metadata": {},
   "outputs": [
    {
     "data": {
      "text/plain": [
       "array([\"Bachelor's\", \"Master's\", 'PhD', 'High School'], dtype=object)"
      ]
     },
     "execution_count": 181,
     "metadata": {},
     "output_type": "execute_result"
    }
   ],
   "source": [
    "data['Education Level'].unique()"
   ]
  },
  {
   "cell_type": "code",
   "execution_count": 182,
   "id": "11555587",
   "metadata": {},
   "outputs": [],
   "source": [
    "education_map_dict = {\n",
    "                    \"Bachelor's\" : 2, \n",
    "                     \"Master's\" : 3, \n",
    "                     'PhD' : 4, \n",
    "                     'High School' : 1\n",
    "}\n",
    "data['Education Level'] = data['Education Level'].map(education_map_dict)"
   ]
  },
  {
   "cell_type": "code",
   "execution_count": 183,
   "id": "d4311a33",
   "metadata": {},
   "outputs": [],
   "source": [
    "data['Gender'] = data['Gender'].map({'Male' : 1, 'Female': 0})"
   ]
  },
  {
   "cell_type": "code",
   "execution_count": 184,
   "id": "62824eeb",
   "metadata": {},
   "outputs": [
    {
     "data": {
      "application/vnd.microsoft.datawrangler.viewer.v0+json": {
       "columns": [
        {
         "name": "index",
         "rawType": "int64",
         "type": "integer"
        },
        {
         "name": "Age",
         "rawType": "float64",
         "type": "float"
        },
        {
         "name": "Gender",
         "rawType": "float64",
         "type": "float"
        },
        {
         "name": "Education Level",
         "rawType": "int64",
         "type": "integer"
        },
        {
         "name": "Job Title",
         "rawType": "object",
         "type": "string"
        },
        {
         "name": "Years of Experience",
         "rawType": "float64",
         "type": "float"
        },
        {
         "name": "Salary",
         "rawType": "float64",
         "type": "float"
        }
       ],
       "ref": "0398ff81-d43c-464c-b8fe-06c2c91e323e",
       "rows": [
        [
         "0",
         "32.0",
         "1.0",
         "2",
         "Software Engineer",
         "5.0",
         "90000.0"
        ],
        [
         "1",
         "28.0",
         "0.0",
         "3",
         "Data Analyst",
         "3.0",
         "65000.0"
        ],
        [
         "2",
         "45.0",
         "1.0",
         "4",
         "Senior Manager",
         "15.0",
         "150000.0"
        ],
        [
         "3",
         "36.0",
         "0.0",
         "2",
         "Sales Associate",
         "7.0",
         "60000.0"
        ],
        [
         "4",
         "52.0",
         "1.0",
         "3",
         "Director",
         "20.0",
         "200000.0"
        ]
       ],
       "shape": {
        "columns": 6,
        "rows": 5
       }
      },
      "text/html": [
       "<div>\n",
       "<style scoped>\n",
       "    .dataframe tbody tr th:only-of-type {\n",
       "        vertical-align: middle;\n",
       "    }\n",
       "\n",
       "    .dataframe tbody tr th {\n",
       "        vertical-align: top;\n",
       "    }\n",
       "\n",
       "    .dataframe thead th {\n",
       "        text-align: right;\n",
       "    }\n",
       "</style>\n",
       "<table border=\"1\" class=\"dataframe\">\n",
       "  <thead>\n",
       "    <tr style=\"text-align: right;\">\n",
       "      <th></th>\n",
       "      <th>Age</th>\n",
       "      <th>Gender</th>\n",
       "      <th>Education Level</th>\n",
       "      <th>Job Title</th>\n",
       "      <th>Years of Experience</th>\n",
       "      <th>Salary</th>\n",
       "    </tr>\n",
       "  </thead>\n",
       "  <tbody>\n",
       "    <tr>\n",
       "      <th>0</th>\n",
       "      <td>32.0</td>\n",
       "      <td>1.0</td>\n",
       "      <td>2</td>\n",
       "      <td>Software Engineer</td>\n",
       "      <td>5.0</td>\n",
       "      <td>90000.0</td>\n",
       "    </tr>\n",
       "    <tr>\n",
       "      <th>1</th>\n",
       "      <td>28.0</td>\n",
       "      <td>0.0</td>\n",
       "      <td>3</td>\n",
       "      <td>Data Analyst</td>\n",
       "      <td>3.0</td>\n",
       "      <td>65000.0</td>\n",
       "    </tr>\n",
       "    <tr>\n",
       "      <th>2</th>\n",
       "      <td>45.0</td>\n",
       "      <td>1.0</td>\n",
       "      <td>4</td>\n",
       "      <td>Senior Manager</td>\n",
       "      <td>15.0</td>\n",
       "      <td>150000.0</td>\n",
       "    </tr>\n",
       "    <tr>\n",
       "      <th>3</th>\n",
       "      <td>36.0</td>\n",
       "      <td>0.0</td>\n",
       "      <td>2</td>\n",
       "      <td>Sales Associate</td>\n",
       "      <td>7.0</td>\n",
       "      <td>60000.0</td>\n",
       "    </tr>\n",
       "    <tr>\n",
       "      <th>4</th>\n",
       "      <td>52.0</td>\n",
       "      <td>1.0</td>\n",
       "      <td>3</td>\n",
       "      <td>Director</td>\n",
       "      <td>20.0</td>\n",
       "      <td>200000.0</td>\n",
       "    </tr>\n",
       "  </tbody>\n",
       "</table>\n",
       "</div>"
      ],
      "text/plain": [
       "    Age  Gender  Education Level          Job Title  Years of Experience  \\\n",
       "0  32.0     1.0                2  Software Engineer                  5.0   \n",
       "1  28.0     0.0                3       Data Analyst                  3.0   \n",
       "2  45.0     1.0                4     Senior Manager                 15.0   \n",
       "3  36.0     0.0                2    Sales Associate                  7.0   \n",
       "4  52.0     1.0                3           Director                 20.0   \n",
       "\n",
       "     Salary  \n",
       "0   90000.0  \n",
       "1   65000.0  \n",
       "2  150000.0  \n",
       "3   60000.0  \n",
       "4  200000.0  "
      ]
     },
     "execution_count": 184,
     "metadata": {},
     "output_type": "execute_result"
    }
   ],
   "source": [
    "data.head()"
   ]
  },
  {
   "cell_type": "code",
   "execution_count": 185,
   "id": "45c7c0e4",
   "metadata": {},
   "outputs": [
    {
     "data": {
      "text/plain": [
       "(6698, 6)"
      ]
     },
     "execution_count": 185,
     "metadata": {},
     "output_type": "execute_result"
    }
   ],
   "source": [
    "data.shape"
   ]
  },
  {
   "cell_type": "code",
   "execution_count": 186,
   "id": "6ea653e5",
   "metadata": {},
   "outputs": [
    {
     "data": {
      "application/vnd.microsoft.datawrangler.viewer.v0+json": {
       "columns": [
        {
         "name": "index",
         "rawType": "int64",
         "type": "integer"
        },
        {
         "name": "Age",
         "rawType": "float64",
         "type": "float"
        },
        {
         "name": "Gender",
         "rawType": "float64",
         "type": "float"
        },
        {
         "name": "Education Level",
         "rawType": "int64",
         "type": "integer"
        },
        {
         "name": "Job Title_0",
         "rawType": "int64",
         "type": "integer"
        },
        {
         "name": "Job Title_1",
         "rawType": "int64",
         "type": "integer"
        },
        {
         "name": "Job Title_2",
         "rawType": "int64",
         "type": "integer"
        },
        {
         "name": "Job Title_3",
         "rawType": "int64",
         "type": "integer"
        },
        {
         "name": "Job Title_4",
         "rawType": "int64",
         "type": "integer"
        },
        {
         "name": "Job Title_5",
         "rawType": "int64",
         "type": "integer"
        },
        {
         "name": "Job Title_6",
         "rawType": "int64",
         "type": "integer"
        },
        {
         "name": "Job Title_7",
         "rawType": "int64",
         "type": "integer"
        },
        {
         "name": "Years of Experience",
         "rawType": "float64",
         "type": "float"
        },
        {
         "name": "Salary",
         "rawType": "float64",
         "type": "float"
        }
       ],
       "ref": "6df0b90e-e48e-47c4-9045-fbd2adac20a7",
       "rows": [
        [
         "0",
         "32.0",
         "1.0",
         "2",
         "0",
         "0",
         "0",
         "0",
         "0",
         "0",
         "0",
         "1",
         "5.0",
         "90000.0"
        ],
        [
         "1",
         "28.0",
         "0.0",
         "3",
         "0",
         "0",
         "0",
         "0",
         "0",
         "0",
         "1",
         "0",
         "3.0",
         "65000.0"
        ],
        [
         "2",
         "45.0",
         "1.0",
         "4",
         "0",
         "0",
         "0",
         "0",
         "0",
         "0",
         "1",
         "1",
         "15.0",
         "150000.0"
        ],
        [
         "3",
         "36.0",
         "0.0",
         "2",
         "0",
         "0",
         "0",
         "0",
         "0",
         "1",
         "0",
         "0",
         "7.0",
         "60000.0"
        ],
        [
         "4",
         "52.0",
         "1.0",
         "3",
         "0",
         "0",
         "0",
         "0",
         "0",
         "1",
         "0",
         "1",
         "20.0",
         "200000.0"
        ],
        [
         "5",
         "29.0",
         "1.0",
         "2",
         "0",
         "0",
         "0",
         "0",
         "0",
         "1",
         "1",
         "0",
         "2.0",
         "55000.0"
        ],
        [
         "6",
         "42.0",
         "0.0",
         "3",
         "0",
         "0",
         "0",
         "0",
         "0",
         "1",
         "1",
         "1",
         "12.0",
         "120000.0"
        ],
        [
         "7",
         "31.0",
         "1.0",
         "2",
         "0",
         "0",
         "0",
         "0",
         "1",
         "0",
         "0",
         "0",
         "4.0",
         "80000.0"
        ],
        [
         "8",
         "26.0",
         "0.0",
         "2",
         "0",
         "0",
         "0",
         "0",
         "1",
         "0",
         "0",
         "1",
         "1.0",
         "45000.0"
        ],
        [
         "9",
         "38.0",
         "1.0",
         "4",
         "0",
         "0",
         "0",
         "0",
         "1",
         "0",
         "1",
         "0",
         "10.0",
         "110000.0"
        ],
        [
         "10",
         "29.0",
         "1.0",
         "3",
         "0",
         "0",
         "0",
         "0",
         "1",
         "0",
         "1",
         "1",
         "3.0",
         "75000.0"
        ],
        [
         "11",
         "48.0",
         "0.0",
         "2",
         "0",
         "0",
         "0",
         "0",
         "1",
         "1",
         "0",
         "0",
         "18.0",
         "140000.0"
        ],
        [
         "12",
         "35.0",
         "1.0",
         "2",
         "0",
         "0",
         "0",
         "0",
         "1",
         "1",
         "0",
         "1",
         "6.0",
         "65000.0"
        ],
        [
         "13",
         "40.0",
         "0.0",
         "3",
         "0",
         "0",
         "0",
         "0",
         "1",
         "1",
         "1",
         "0",
         "14.0",
         "130000.0"
        ],
        [
         "14",
         "27.0",
         "1.0",
         "2",
         "0",
         "0",
         "0",
         "0",
         "1",
         "1",
         "1",
         "1",
         "2.0",
         "40000.0"
        ],
        [
         "15",
         "44.0",
         "1.0",
         "2",
         "0",
         "0",
         "0",
         "1",
         "0",
         "0",
         "0",
         "0",
         "16.0",
         "125000.0"
        ],
        [
         "16",
         "33.0",
         "0.0",
         "3",
         "0",
         "0",
         "0",
         "1",
         "0",
         "0",
         "0",
         "1",
         "7.0",
         "90000.0"
        ],
        [
         "17",
         "39.0",
         "1.0",
         "4",
         "0",
         "0",
         "0",
         "1",
         "0",
         "0",
         "1",
         "0",
         "12.0",
         "115000.0"
        ],
        [
         "18",
         "25.0",
         "0.0",
         "2",
         "0",
         "0",
         "0",
         "1",
         "0",
         "0",
         "1",
         "1",
         "0.0",
         "35000.0"
        ],
        [
         "19",
         "51.0",
         "1.0",
         "2",
         "0",
         "0",
         "0",
         "1",
         "0",
         "1",
         "0",
         "0",
         "22.0",
         "180000.0"
        ],
        [
         "20",
         "34.0",
         "0.0",
         "3",
         "0",
         "0",
         "0",
         "1",
         "0",
         "1",
         "0",
         "1",
         "5.0",
         "80000.0"
        ],
        [
         "21",
         "47.0",
         "1.0",
         "3",
         "0",
         "0",
         "0",
         "1",
         "0",
         "1",
         "1",
         "0",
         "19.0",
         "190000.0"
        ],
        [
         "22",
         "30.0",
         "1.0",
         "2",
         "0",
         "0",
         "0",
         "1",
         "0",
         "1",
         "1",
         "1",
         "2.0",
         "50000.0"
        ],
        [
         "23",
         "36.0",
         "0.0",
         "2",
         "0",
         "0",
         "0",
         "1",
         "1",
         "0",
         "0",
         "0",
         "9.0",
         "60000.0"
        ],
        [
         "24",
         "41.0",
         "1.0",
         "3",
         "0",
         "0",
         "0",
         "1",
         "1",
         "0",
         "0",
         "1",
         "13.0",
         "140000.0"
        ],
        [
         "25",
         "28.0",
         "0.0",
         "2",
         "0",
         "0",
         "0",
         "1",
         "1",
         "0",
         "1",
         "0",
         "3.0",
         "45000.0"
        ],
        [
         "26",
         "37.0",
         "0.0",
         "3",
         "0",
         "0",
         "0",
         "1",
         "1",
         "0",
         "1",
         "1",
         "11.0",
         "110000.0"
        ],
        [
         "27",
         "24.0",
         "1.0",
         "2",
         "0",
         "0",
         "0",
         "1",
         "1",
         "1",
         "0",
         "0",
         "1.0",
         "40000.0"
        ],
        [
         "28",
         "43.0",
         "0.0",
         "4",
         "0",
         "0",
         "0",
         "1",
         "1",
         "1",
         "0",
         "1",
         "15.0",
         "140000.0"
        ],
        [
         "29",
         "33.0",
         "1.0",
         "3",
         "0",
         "0",
         "0",
         "1",
         "1",
         "1",
         "1",
         "0",
         "6.0",
         "90000.0"
        ],
        [
         "30",
         "50.0",
         "1.0",
         "2",
         "0",
         "0",
         "0",
         "1",
         "1",
         "1",
         "1",
         "1",
         "25.0",
         "250000.0"
        ],
        [
         "31",
         "31.0",
         "0.0",
         "2",
         "0",
         "0",
         "1",
         "0",
         "0",
         "0",
         "0",
         "0",
         "4.0",
         "55000.0"
        ],
        [
         "32",
         "29.0",
         "1.0",
         "3",
         "0",
         "0",
         "1",
         "0",
         "0",
         "0",
         "0",
         "1",
         "3.0",
         "75000.0"
        ],
        [
         "33",
         "39.0",
         "0.0",
         "2",
         "0",
         "0",
         "1",
         "0",
         "0",
         "0",
         "1",
         "0",
         "10.0",
         "65000.0"
        ],
        [
         "34",
         "46.0",
         "1.0",
         "4",
         "0",
         "0",
         "0",
         "0",
         "0",
         "0",
         "1",
         "1",
         "20.0",
         "170000.0"
        ],
        [
         "35",
         "27.0",
         "1.0",
         "2",
         "0",
         "0",
         "1",
         "0",
         "0",
         "0",
         "1",
         "1",
         "2.0",
         "45000.0"
        ],
        [
         "36",
         "35.0",
         "0.0",
         "2",
         "0",
         "0",
         "1",
         "0",
         "0",
         "1",
         "0",
         "0",
         "7.0",
         "60000.0"
        ],
        [
         "37",
         "42.0",
         "1.0",
         "3",
         "0",
         "0",
         "1",
         "0",
         "0",
         "1",
         "0",
         "1",
         "14.0",
         "115000.0"
        ],
        [
         "38",
         "26.0",
         "0.0",
         "2",
         "0",
         "0",
         "1",
         "0",
         "0",
         "1",
         "1",
         "0",
         "1.0",
         "40000.0"
        ],
        [
         "39",
         "49.0",
         "1.0",
         "2",
         "0",
         "0",
         "1",
         "0",
         "0",
         "1",
         "1",
         "1",
         "21.0",
         "160000.0"
        ],
        [
         "40",
         "34.0",
         "0.0",
         "3",
         "0",
         "0",
         "1",
         "0",
         "1",
         "0",
         "0",
         "0",
         "5.0",
         "80000.0"
        ],
        [
         "41",
         "48.0",
         "1.0",
         "3",
         "0",
         "0",
         "1",
         "0",
         "1",
         "0",
         "0",
         "1",
         "18.0",
         "190000.0"
        ],
        [
         "42",
         "30.0",
         "1.0",
         "2",
         "0",
         "0",
         "1",
         "0",
         "1",
         "0",
         "1",
         "0",
         "3.0",
         "60000.0"
        ],
        [
         "43",
         "36.0",
         "0.0",
         "2",
         "0",
         "0",
         "1",
         "0",
         "1",
         "0",
         "1",
         "1",
         "8.0",
         "45000.0"
        ],
        [
         "44",
         "41.0",
         "1.0",
         "3",
         "0",
         "0",
         "1",
         "0",
         "1",
         "1",
         "0",
         "0",
         "13.0",
         "130000.0"
        ],
        [
         "45",
         "28.0",
         "0.0",
         "2",
         "0",
         "0",
         "1",
         "0",
         "1",
         "1",
         "0",
         "1",
         "2.0",
         "40000.0"
        ],
        [
         "46",
         "32.0",
         "1.0",
         "2",
         "0",
         "0",
         "1",
         "0",
         "1",
         "1",
         "1",
         "0",
         "5.0",
         "75000.0"
        ],
        [
         "47",
         "45.0",
         "0.0",
         "3",
         "0",
         "0",
         "1",
         "0",
         "1",
         "1",
         "1",
         "1",
         "16.0",
         "180000.0"
        ],
        [
         "48",
         "38.0",
         "1.0",
         "4",
         "0",
         "0",
         "0",
         "0",
         "1",
         "0",
         "1",
         "0",
         "11.0",
         "120000.0"
        ],
        [
         "49",
         "25.0",
         "1.0",
         "2",
         "0",
         "0",
         "1",
         "1",
         "0",
         "0",
         "0",
         "0",
         "0.0",
         "35000.0"
        ]
       ],
       "shape": {
        "columns": 13,
        "rows": 6698
       }
      },
      "text/html": [
       "<div>\n",
       "<style scoped>\n",
       "    .dataframe tbody tr th:only-of-type {\n",
       "        vertical-align: middle;\n",
       "    }\n",
       "\n",
       "    .dataframe tbody tr th {\n",
       "        vertical-align: top;\n",
       "    }\n",
       "\n",
       "    .dataframe thead th {\n",
       "        text-align: right;\n",
       "    }\n",
       "</style>\n",
       "<table border=\"1\" class=\"dataframe\">\n",
       "  <thead>\n",
       "    <tr style=\"text-align: right;\">\n",
       "      <th></th>\n",
       "      <th>Age</th>\n",
       "      <th>Gender</th>\n",
       "      <th>Education Level</th>\n",
       "      <th>Job Title_0</th>\n",
       "      <th>Job Title_1</th>\n",
       "      <th>Job Title_2</th>\n",
       "      <th>Job Title_3</th>\n",
       "      <th>Job Title_4</th>\n",
       "      <th>Job Title_5</th>\n",
       "      <th>Job Title_6</th>\n",
       "      <th>Job Title_7</th>\n",
       "      <th>Years of Experience</th>\n",
       "      <th>Salary</th>\n",
       "    </tr>\n",
       "  </thead>\n",
       "  <tbody>\n",
       "    <tr>\n",
       "      <th>0</th>\n",
       "      <td>32.0</td>\n",
       "      <td>1.0</td>\n",
       "      <td>2</td>\n",
       "      <td>0</td>\n",
       "      <td>0</td>\n",
       "      <td>0</td>\n",
       "      <td>0</td>\n",
       "      <td>0</td>\n",
       "      <td>0</td>\n",
       "      <td>0</td>\n",
       "      <td>1</td>\n",
       "      <td>5.0</td>\n",
       "      <td>90000.0</td>\n",
       "    </tr>\n",
       "    <tr>\n",
       "      <th>1</th>\n",
       "      <td>28.0</td>\n",
       "      <td>0.0</td>\n",
       "      <td>3</td>\n",
       "      <td>0</td>\n",
       "      <td>0</td>\n",
       "      <td>0</td>\n",
       "      <td>0</td>\n",
       "      <td>0</td>\n",
       "      <td>0</td>\n",
       "      <td>1</td>\n",
       "      <td>0</td>\n",
       "      <td>3.0</td>\n",
       "      <td>65000.0</td>\n",
       "    </tr>\n",
       "    <tr>\n",
       "      <th>2</th>\n",
       "      <td>45.0</td>\n",
       "      <td>1.0</td>\n",
       "      <td>4</td>\n",
       "      <td>0</td>\n",
       "      <td>0</td>\n",
       "      <td>0</td>\n",
       "      <td>0</td>\n",
       "      <td>0</td>\n",
       "      <td>0</td>\n",
       "      <td>1</td>\n",
       "      <td>1</td>\n",
       "      <td>15.0</td>\n",
       "      <td>150000.0</td>\n",
       "    </tr>\n",
       "    <tr>\n",
       "      <th>3</th>\n",
       "      <td>36.0</td>\n",
       "      <td>0.0</td>\n",
       "      <td>2</td>\n",
       "      <td>0</td>\n",
       "      <td>0</td>\n",
       "      <td>0</td>\n",
       "      <td>0</td>\n",
       "      <td>0</td>\n",
       "      <td>1</td>\n",
       "      <td>0</td>\n",
       "      <td>0</td>\n",
       "      <td>7.0</td>\n",
       "      <td>60000.0</td>\n",
       "    </tr>\n",
       "    <tr>\n",
       "      <th>4</th>\n",
       "      <td>52.0</td>\n",
       "      <td>1.0</td>\n",
       "      <td>3</td>\n",
       "      <td>0</td>\n",
       "      <td>0</td>\n",
       "      <td>0</td>\n",
       "      <td>0</td>\n",
       "      <td>0</td>\n",
       "      <td>1</td>\n",
       "      <td>0</td>\n",
       "      <td>1</td>\n",
       "      <td>20.0</td>\n",
       "      <td>200000.0</td>\n",
       "    </tr>\n",
       "    <tr>\n",
       "      <th>...</th>\n",
       "      <td>...</td>\n",
       "      <td>...</td>\n",
       "      <td>...</td>\n",
       "      <td>...</td>\n",
       "      <td>...</td>\n",
       "      <td>...</td>\n",
       "      <td>...</td>\n",
       "      <td>...</td>\n",
       "      <td>...</td>\n",
       "      <td>...</td>\n",
       "      <td>...</td>\n",
       "      <td>...</td>\n",
       "      <td>...</td>\n",
       "    </tr>\n",
       "    <tr>\n",
       "      <th>6699</th>\n",
       "      <td>49.0</td>\n",
       "      <td>0.0</td>\n",
       "      <td>4</td>\n",
       "      <td>0</td>\n",
       "      <td>0</td>\n",
       "      <td>1</td>\n",
       "      <td>0</td>\n",
       "      <td>1</td>\n",
       "      <td>1</td>\n",
       "      <td>1</td>\n",
       "      <td>1</td>\n",
       "      <td>20.0</td>\n",
       "      <td>200000.0</td>\n",
       "    </tr>\n",
       "    <tr>\n",
       "      <th>6700</th>\n",
       "      <td>32.0</td>\n",
       "      <td>1.0</td>\n",
       "      <td>1</td>\n",
       "      <td>0</td>\n",
       "      <td>0</td>\n",
       "      <td>0</td>\n",
       "      <td>0</td>\n",
       "      <td>0</td>\n",
       "      <td>1</td>\n",
       "      <td>0</td>\n",
       "      <td>0</td>\n",
       "      <td>3.0</td>\n",
       "      <td>50000.0</td>\n",
       "    </tr>\n",
       "    <tr>\n",
       "      <th>6701</th>\n",
       "      <td>30.0</td>\n",
       "      <td>0.0</td>\n",
       "      <td>2</td>\n",
       "      <td>0</td>\n",
       "      <td>0</td>\n",
       "      <td>0</td>\n",
       "      <td>1</td>\n",
       "      <td>1</td>\n",
       "      <td>0</td>\n",
       "      <td>0</td>\n",
       "      <td>1</td>\n",
       "      <td>4.0</td>\n",
       "      <td>55000.0</td>\n",
       "    </tr>\n",
       "    <tr>\n",
       "      <th>6702</th>\n",
       "      <td>46.0</td>\n",
       "      <td>1.0</td>\n",
       "      <td>3</td>\n",
       "      <td>0</td>\n",
       "      <td>0</td>\n",
       "      <td>0</td>\n",
       "      <td>1</td>\n",
       "      <td>0</td>\n",
       "      <td>0</td>\n",
       "      <td>0</td>\n",
       "      <td>1</td>\n",
       "      <td>14.0</td>\n",
       "      <td>140000.0</td>\n",
       "    </tr>\n",
       "    <tr>\n",
       "      <th>6703</th>\n",
       "      <td>26.0</td>\n",
       "      <td>0.0</td>\n",
       "      <td>1</td>\n",
       "      <td>0</td>\n",
       "      <td>0</td>\n",
       "      <td>1</td>\n",
       "      <td>0</td>\n",
       "      <td>0</td>\n",
       "      <td>1</td>\n",
       "      <td>1</td>\n",
       "      <td>1</td>\n",
       "      <td>1.0</td>\n",
       "      <td>35000.0</td>\n",
       "    </tr>\n",
       "  </tbody>\n",
       "</table>\n",
       "<p>6698 rows × 13 columns</p>\n",
       "</div>"
      ],
      "text/plain": [
       "       Age  Gender  Education Level  Job Title_0  Job Title_1  Job Title_2  \\\n",
       "0     32.0     1.0                2            0            0            0   \n",
       "1     28.0     0.0                3            0            0            0   \n",
       "2     45.0     1.0                4            0            0            0   \n",
       "3     36.0     0.0                2            0            0            0   \n",
       "4     52.0     1.0                3            0            0            0   \n",
       "...    ...     ...              ...          ...          ...          ...   \n",
       "6699  49.0     0.0                4            0            0            1   \n",
       "6700  32.0     1.0                1            0            0            0   \n",
       "6701  30.0     0.0                2            0            0            0   \n",
       "6702  46.0     1.0                3            0            0            0   \n",
       "6703  26.0     0.0                1            0            0            1   \n",
       "\n",
       "      Job Title_3  Job Title_4  Job Title_5  Job Title_6  Job Title_7  \\\n",
       "0               0            0            0            0            1   \n",
       "1               0            0            0            1            0   \n",
       "2               0            0            0            1            1   \n",
       "3               0            0            1            0            0   \n",
       "4               0            0            1            0            1   \n",
       "...           ...          ...          ...          ...          ...   \n",
       "6699            0            1            1            1            1   \n",
       "6700            0            0            1            0            0   \n",
       "6701            1            1            0            0            1   \n",
       "6702            1            0            0            0            1   \n",
       "6703            0            0            1            1            1   \n",
       "\n",
       "      Years of Experience    Salary  \n",
       "0                     5.0   90000.0  \n",
       "1                     3.0   65000.0  \n",
       "2                    15.0  150000.0  \n",
       "3                     7.0   60000.0  \n",
       "4                    20.0  200000.0  \n",
       "...                   ...       ...  \n",
       "6699                 20.0  200000.0  \n",
       "6700                  3.0   50000.0  \n",
       "6701                  4.0   55000.0  \n",
       "6702                 14.0  140000.0  \n",
       "6703                  1.0   35000.0  \n",
       "\n",
       "[6698 rows x 13 columns]"
      ]
     },
     "execution_count": 186,
     "metadata": {},
     "output_type": "execute_result"
    }
   ],
   "source": [
    "encoder = ce.BinaryEncoder(cols=['Job Title'])\n",
    "data_encoded = encoder.fit_transform(data)\n",
    "\n",
    "data_encoded"
   ]
  },
  {
   "cell_type": "code",
   "execution_count": 187,
   "id": "1ece72d5",
   "metadata": {},
   "outputs": [],
   "source": [
    "data_encoded.dropna(inplace = True)"
   ]
  },
  {
   "cell_type": "code",
   "execution_count": 188,
   "id": "ac0c73bf",
   "metadata": {},
   "outputs": [],
   "source": [
    "os.makedirs(\"plots\", exist_ok=True)"
   ]
  },
  {
   "cell_type": "code",
   "execution_count": 189,
   "id": "da590cc3",
   "metadata": {},
   "outputs": [
    {
     "data": {
      "image/png": "[encoded data removed]",
      "text/plain": [
       "<Figure size 640x480 with 1 Axes>"
      ]
     },
     "metadata": {},
     "output_type": "display_data"
    },
    {
     "name": "stdout",
     "output_type": "stream",
     "text": [
      "✅ Plot saved in plots/Salary_Distribution.png\n"
     ]
    }
   ],
   "source": [
    "sns.histplot(data_encoded['Salary'], kde=True)\n",
    "plt.title(\"Original Salary\")\n",
    "\n",
    "plt.savefig(\"plots/Salary_Distribution.png\", dpi=300, bbox_inches=\"tight\")\n",
    "\n",
    "plt.show()\n",
    "plt.close()\n",
    "\n",
    "print(\"✅ Plot saved in plots/Salary_Distribution.png\")"
   ]
  },
  {
   "cell_type": "code",
   "execution_count": 190,
   "id": "d16a1b1e",
   "metadata": {},
   "outputs": [
    {
     "data": {
      "image/png": "[encoded data removed]",
      "text/plain": [
       "<Figure size 640x480 with 1 Axes>"
      ]
     },
     "metadata": {},
     "output_type": "display_data"
    },
    {
     "name": "stdout",
     "output_type": "stream",
     "text": [
      "✅ Plot saved in plots/Salary_Distribution.png\n"
     ]
    }
   ],
   "source": [
    "sns.histplot(np.log1p(data_encoded['Salary']), kde=True)\n",
    "plt.title(\"Log-Transformed Salary\")\n",
    "\n",
    "plt.savefig(\"plots/Log_Salary_Distribution.png\", dpi=300, bbox_inches=\"tight\")\n",
    "\n",
    "plt.show()\n",
    "plt.close()\n",
    "\n",
    "print(\"✅ Plot saved in plots/Salary_Distribution.png\")"
   ]
  },
  {
   "cell_type": "code",
   "execution_count": null,
   "id": "361b4155",
   "metadata": {},
   "outputs": [
    {
     "data": {
      "image/png": "[encoded data removed]",
      "text/plain": [
       "<Figure size 800x500 with 1 Axes>"
      ]
     },
     "metadata": {},
     "output_type": "display_data"
    },
    {
     "name": "stdout",
     "output_type": "stream",
     "text": [
      "✅ Plot saved in plots/age_vs_salary.png\n"
     ]
    }
   ],
   "source": [
    "\n",
    "plt.figure(figsize=(8,5))\n",
    "plt.scatter(data=data_encoded, x='Age', y='Salary')\n",
    "plt.xlabel('Age')\n",
    "plt.ylabel('Salary')\n",
    "plt.title('Age vs Salary')\n",
    "\n",
    "# ✅ Save BEFORE showing\n",
    "plt.savefig(\"plots/age_vs_salary.png\", dpi=300, bbox_inches=\"tight\")\n",
    "\n",
    "plt.show()\n",
    "plt.close()\n",
    "\n",
    "print(\"✅ Plot saved in plots/age_vs_salary.png\")"
   ]
  },
  {
   "cell_type": "code",
   "execution_count": 192,
   "id": "1798edbc",
   "metadata": {},
   "outputs": [
    {
     "data": {
      "image/png": "[encoded data removed]",
      "text/plain": [
       "<Figure size 800x500 with 1 Axes>"
      ]
     },
     "metadata": {},
     "output_type": "display_data"
    },
    {
     "name": "stdout",
     "output_type": "stream",
     "text": [
      "✅ Plot saved in plots/YOE vs salary.png\n"
     ]
    }
   ],
   "source": [
    "plt.figure(figsize=(8,5))\n",
    "plt.scatter(data = data_encoded, x = 'Age', y='Salary')\n",
    "plt.xlabel('Age')\n",
    "plt.ylabel('Salary')\n",
    "plt.title('Years of Experience vs Salary')\n",
    "\n",
    "plt.savefig('plots/YOE vs salary.png', dpi=300, bbox_inches=\"tight\")\n",
    "\n",
    "plt.show()\n",
    "plt.close()\n",
    "\n",
    "print(\"✅ Plot saved in plots/YOE vs salary.png\")"
   ]
  },
  {
   "cell_type": "code",
   "execution_count": 193,
   "id": "796365c7",
   "metadata": {},
   "outputs": [],
   "source": [
    "# Add original column back for reference\n",
    "result = pd.concat([data['Job Title'], data_encoded.iloc[:, 3:11]], axis=1)\n",
    "result.to_csv('job_title_map.csv', index = False)"
   ]
  },
  {
   "cell_type": "code",
   "execution_count": 194,
   "id": "704a0720",
   "metadata": {},
   "outputs": [],
   "source": [
    "data_encoded.to_csv('data_processed.csv', index = False)"
   ]
  }
 ],
 "metadata": {
  "kernelspec": {
   "display_name": "Python (tf_env)",
   "language": "python",
   "name": "tf_env"
  },
  "language_info": {
   "codemirror_mode": {
    "name": "ipython",
    "version": 3
   },
   "file_extension": ".py",
   "mimetype": "text/x-python",
   "name": "python",
   "nbconvert_exporter": "python",
   "pygments_lexer": "ipython3",
   "version": "3.13.5"
  }
 },
 "nbformat": 4,
 "nbformat_minor": 5
}
