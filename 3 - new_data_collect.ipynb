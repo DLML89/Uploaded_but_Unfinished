{
 "cells": [
  {
   "cell_type": "code",
   "execution_count": 1,
   "id": "482ce5ab",
   "metadata": {},
   "outputs": [],
   "source": [
    "import os\n",
    "from datetime import datetime\n",
    "import pandas as pd\n",
    "import yfinance as yf\n",
    "import csv"
   ]
  },
  {
   "cell_type": "code",
   "execution_count": 2,
   "id": "9d5751c5",
   "metadata": {},
   "outputs": [],
   "source": [
    "import os\n",
    "import csv\n",
    "from datetime import datetime\n",
    "import yfinance as yf\n",
    "import pandas as pd\n",
    "\n",
    "def update_stock_csv_by_years(tickers, years, frequency='daily', folder='stocks_datasets'):\n",
    "    interval_map = {'daily': '1d', 'hourly': '1h'}\n",
    "    if frequency not in interval_map:\n",
    "        raise ValueError(\"Frequency must be 'daily' or 'hourly'\")\n",
    "\n",
    "    os.makedirs(folder, exist_ok=True)\n",
    "\n",
    "    file_path = os.path.join(folder, \"new_data.csv\")\n",
    "\n",
    "    with open(file_path, 'w', newline='') as f:\n",
    "        writer = csv.writer(f)\n",
    "\n",
    "        for ticker in tickers:\n",
    "            all_years_data = []\n",
    "\n",
    "            # Download year by year\n",
    "            for year in years:\n",
    "                interval = interval_map[frequency]\n",
    "                start_date = f\"{year}-01-01\"\n",
    "                end_date = f\"{year + 1}-08-23\"\n",
    "\n",
    "                if frequency == 'hourly' and (datetime.today().year - year) > 2:\n",
    "                    print(f\"⚠ Hourly data not available before ~2 years ago for {ticker} in {year}. Switching to daily.\")\n",
    "                    interval = '1d'\n",
    "\n",
    "                try:\n",
    "                    print(f\"🔄 Fetching {interval} data for {ticker} in {year}...\")\n",
    "                    data = yf.download(ticker, start=start_date, end=end_date, interval=interval, progress=False)\n",
    "\n",
    "                    if not data.empty:\n",
    "                        data.index = pd.to_datetime(data.index)\n",
    "                        data.index.name = \"Date\"\n",
    "\n",
    "                        # ✅ Flatten MultiIndex columns if present\n",
    "                        if isinstance(data.columns, pd.MultiIndex):\n",
    "                            data.columns = [c[0] for c in data.columns]\n",
    "\n",
    "                        all_years_data.append(data)\n",
    "                    else:\n",
    "                        print(f\"⚠ No data for {ticker} in {year}\")\n",
    "                except Exception as e:\n",
    "                    print(f\"❌ Error with {ticker} in {year}: {e}\")\n",
    "\n",
    "            if all_years_data:\n",
    "                new_data = pd.concat(all_years_data)\n",
    "                new_data.sort_index(inplace=True)\n",
    "\n",
    "                # Keep only required columns\n",
    "                cols_order = ['Adj Close', 'Close', 'High', 'Low', 'Open', 'Volume']\n",
    "                cols_order_existing = [col for col in cols_order if col in new_data.columns]\n",
    "                df_to_save = new_data[cols_order_existing].copy()\n",
    "\n",
    "                # Rename 'Adj Close' → 'Price'\n",
    "                df_to_save.rename(columns={'Adj Close': 'Price'}, inplace=True)\n",
    "\n",
    "                # ✅ Write header block (3 lines) for each ticker\n",
    "                writer.writerow(['Date'] + df_to_save.columns.tolist())\n",
    "                writer.writerow(['Ticker'] + [ticker] * len(df_to_save.columns))\n",
    "                writer.writerow(['Date'] + [''] * len(df_to_save.columns))\n",
    "\n",
    "                # Data rows\n",
    "                for idx, row in df_to_save.iterrows():\n",
    "                    writer.writerow([idx.strftime('%Y-%m-%d')] + list(row.values))\n",
    "\n",
    "        print(f\"✅ Saved all tickers to {file_path}\")\n"
   ]
  },
  {
   "cell_type": "code",
   "execution_count": 3,
   "id": "397d5cf7",
   "metadata": {},
   "outputs": [
    {
     "name": "stdout",
     "output_type": "stream",
     "text": [
      "🔄 Fetching 1d data for TSLA in 2020...\n"
     ]
    },
    {
     "name": "stderr",
     "output_type": "stream",
     "text": [
      "C:\\Users\\spenc\\AppData\\Local\\Temp\\ipykernel_32420\\3884819506.py:34: FutureWarning: YF.download() has changed argument auto_adjust default to True\n",
      "  data = yf.download(ticker, start=start_date, end=end_date, interval=interval, progress=False)\n"
     ]
    },
    {
     "name": "stdout",
     "output_type": "stream",
     "text": [
      "🔄 Fetching 1d data for TSLA in 2021...\n"
     ]
    },
    {
     "name": "stderr",
     "output_type": "stream",
     "text": [
      "C:\\Users\\spenc\\AppData\\Local\\Temp\\ipykernel_32420\\3884819506.py:34: FutureWarning: YF.download() has changed argument auto_adjust default to True\n",
      "  data = yf.download(ticker, start=start_date, end=end_date, interval=interval, progress=False)\n"
     ]
    },
    {
     "name": "stdout",
     "output_type": "stream",
     "text": [
      "🔄 Fetching 1d data for TSLA in 2022...\n"
     ]
    },
    {
     "name": "stderr",
     "output_type": "stream",
     "text": [
      "C:\\Users\\spenc\\AppData\\Local\\Temp\\ipykernel_32420\\3884819506.py:34: FutureWarning: YF.download() has changed argument auto_adjust default to True\n",
      "  data = yf.download(ticker, start=start_date, end=end_date, interval=interval, progress=False)\n"
     ]
    },
    {
     "name": "stdout",
     "output_type": "stream",
     "text": [
      "🔄 Fetching 1d data for TSLA in 2023...\n"
     ]
    },
    {
     "name": "stderr",
     "output_type": "stream",
     "text": [
      "C:\\Users\\spenc\\AppData\\Local\\Temp\\ipykernel_32420\\3884819506.py:34: FutureWarning: YF.download() has changed argument auto_adjust default to True\n",
      "  data = yf.download(ticker, start=start_date, end=end_date, interval=interval, progress=False)\n"
     ]
    },
    {
     "name": "stdout",
     "output_type": "stream",
     "text": [
      "🔄 Fetching 1d data for TSLA in 2024...\n"
     ]
    },
    {
     "name": "stderr",
     "output_type": "stream",
     "text": [
      "C:\\Users\\spenc\\AppData\\Local\\Temp\\ipykernel_32420\\3884819506.py:34: FutureWarning: YF.download() has changed argument auto_adjust default to True\n",
      "  data = yf.download(ticker, start=start_date, end=end_date, interval=interval, progress=False)\n"
     ]
    },
    {
     "name": "stdout",
     "output_type": "stream",
     "text": [
      "✅ Saved all tickers to stocks_datasets\\new_data.csv\n"
     ]
    }
   ],
   "source": [
    "update_stock_csv_by_years(\n",
    "    tickers=[\"TSLA\"],\n",
    "    years=range(2020, 2025),\n",
    "    frequency=\"daily\"\n",
    ")"
   ]
  }
 ],
 "metadata": {
  "kernelspec": {
   "display_name": "ml_dl_env",
   "language": "python",
   "name": "python3"
  },
  "language_info": {
   "codemirror_mode": {
    "name": "ipython",
    "version": 3
   },
   "file_extension": ".py",
   "mimetype": "text/x-python",
   "name": "python",
   "nbconvert_exporter": "python",
   "pygments_lexer": "ipython3",
   "version": "3.12.11"
  }
 },
 "nbformat": 4,
 "nbformat_minor": 5
}
