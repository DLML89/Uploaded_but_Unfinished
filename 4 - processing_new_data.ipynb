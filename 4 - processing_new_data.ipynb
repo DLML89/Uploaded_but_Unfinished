{
 "cells": [
  {
   "cell_type": "code",
   "execution_count": 1,
   "id": "eeef776f",
   "metadata": {},
   "outputs": [],
   "source": [
    "import numpy as np\n",
    "import pandas as pd\n",
    "from sklearn.preprocessing import MinMaxScaler\n",
    "from sklearn.model_selection import train_test_split\n",
    "import tensorflow as tf\n",
    "from tensorflow.keras.models import Sequential\n",
    "from tensorflow.keras.layers import LSTM, Dense, Dropout\n",
    "from tensorflow.keras.callbacks import EarlyStopping\n",
    "\n",
    "from tensorflow.keras.optimizers import Adam"
   ]
  },
  {
   "cell_type": "code",
   "execution_count": 2,
   "id": "8a09d97d",
   "metadata": {},
   "outputs": [
    {
     "name": "stderr",
     "output_type": "stream",
     "text": [
      "C:\\Users\\spenc\\AppData\\Local\\Temp\\ipykernel_25656\\969450214.py:6: FutureWarning: Series.fillna with 'method' is deprecated and will raise in a future version. Use obj.ffill() or obj.bfill() instead.\n",
      "  df['Returns'] = df['Close'].pct_change().fillna(method='ffill')\n"
     ]
    }
   ],
   "source": [
    "raw = pd.read_csv('stocks_datasets/new_data.csv')\n",
    "df = raw.iloc[2:].reset_index(drop = True)\n",
    "df['Date'] = pd.to_datetime(df['Date'])\n",
    "df.set_index('Date', inplace = True)\n",
    "df = df.apply(pd.to_numeric, errors='coerce')\n",
    "df['Returns'] = df['Close'].pct_change().fillna(method='ffill')\n",
    "df.dropna()\n",
    "df['MA_5'] = df['Close'].rolling(window = 5).mean()\n",
    "df['MA_15'] = df['Close'].rolling(window = 15).mean()\n",
    "df['Log_Price'] = pd.Series(np.log1p(df['Close']))\n",
    "df.dropna(inplace = True)"
   ]
  },
  {
   "cell_type": "code",
   "execution_count": 3,
   "id": "862c7897",
   "metadata": {},
   "outputs": [],
   "source": [
    "df = df[[ 'High', 'Low', 'Open', 'Volume', 'Returns', 'MA_5',\n",
    "       'MA_15', 'Close', 'Log_Price']]\n",
    "\n",
    "\n",
    "features_cols = ['High', 'Low', 'Open', 'Volume', 'MA_5',\n",
    "       'MA_15']\n",
    "target_col = 'Log_Price'\n",
    "\n",
    "X = df[features_cols].values\n",
    "y=df[target_col].values.reshape(-1, 1)"
   ]
  },
  {
   "cell_type": "code",
   "execution_count": 4,
   "id": "69a66c19",
   "metadata": {},
   "outputs": [
    {
     "name": "stdout",
     "output_type": "stream",
     "text": [
      "✅ Full processed dataset saved to stocks_datasets/processed_data.csv\n",
      "✅ Scaler saved to scaler.save\n"
     ]
    }
   ],
   "source": [
    "import pandas as pd\n",
    "from sklearn.preprocessing import MinMaxScaler\n",
    "import joblib\n",
    "\n",
    "# Only use 'Close' (Log_Price) for simplicity\n",
    "data = df['Log_Price'].values.reshape(-1, 1)\n",
    "\n",
    "# Scale prices between 0 and 1\n",
    "scaler = MinMaxScaler(feature_range=(0,1))\n",
    "scaled_values = scaler.fit_transform(data)\n",
    "\n",
    "# Create DataFrame with Date as index\n",
    "scaled_df = pd.DataFrame(scaled_values, index=df.index, columns=['Scaled_Log_Price'])\n",
    "\n",
    "# Save processed dataset\n",
    "processed_path = \"stocks_datasets/processed_data.csv\"\n",
    "scaled_df.to_csv(processed_path)\n",
    "\n",
    "# Save the scaler for future inverse transformation\n",
    "scaler_path = \"scaler.save\"\n",
    "joblib.dump(scaler, scaler_path)\n",
    "\n",
    "print(f\"✅ Full processed dataset saved to {processed_path}\")\n",
    "print(f\"✅ Scaler saved to {scaler_path}\")"
   ]
  }
 ],
 "metadata": {
  "kernelspec": {
   "display_name": "ml_dl_env",
   "language": "python",
   "name": "python3"
  },
  "language_info": {
   "codemirror_mode": {
    "name": "ipython",
    "version": 3
   },
   "file_extension": ".py",
   "mimetype": "text/x-python",
   "name": "python",
   "nbconvert_exporter": "python",
   "pygments_lexer": "ipython3",
   "version": "3.12.11"
  }
 },
 "nbformat": 4,
 "nbformat_minor": 5
}
