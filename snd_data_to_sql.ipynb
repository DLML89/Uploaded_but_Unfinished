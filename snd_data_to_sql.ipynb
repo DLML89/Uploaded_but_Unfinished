{
 "cells": [
  {
   "cell_type": "code",
   "execution_count": 4,
   "id": "d54ecc68",
   "metadata": {},
   "outputs": [
    {
     "name": "stdout",
     "output_type": "stream",
     "text": [
      "Collecting cryptography\n",
      "  Using cached cryptography-45.0.5-cp311-abi3-win_amd64.whl.metadata (5.7 kB)\n",
      "Requirement already satisfied: cffi>=1.14 in c:\\users\\spenc\\anaconda3\\envs\\ds_ml_env\\lib\\site-packages (from cryptography) (1.17.1)\n",
      "Requirement already satisfied: pycparser in c:\\users\\spenc\\anaconda3\\envs\\ds_ml_env\\lib\\site-packages (from cffi>=1.14->cryptography) (2.21)\n",
      "Using cached cryptography-45.0.5-cp311-abi3-win_amd64.whl (3.4 MB)\n",
      "Installing collected packages: cryptography\n",
      "Successfully installed cryptography-45.0.5\n"
     ]
    }
   ],
   "source": [
    "!pip install cryptography"
   ]
  },
  {
   "cell_type": "code",
   "execution_count": null,
   "id": "4a2058a2",
   "metadata": {},
   "outputs": [],
   "source": [
    "import pandas as pd\n",
    "from sqlalchemy import create_engine\n"
   ]
  },
  {
   "cell_type": "code",
   "execution_count": null,
   "id": "3cdf899a",
   "metadata": {},
   "outputs": [
    {
     "name": "stdout",
     "output_type": "stream",
     "text": [
      "✅ Data from Prediction_table.csv saved to MySQL table 'stock_predictions' in database 'stocks_db'.\n"
     ]
    },
    {
     "name": "stderr",
     "output_type": "stream",
     "text": [
      "<>:39: SyntaxWarning: invalid escape sequence '\\P'\n",
      "<>:39: SyntaxWarning: invalid escape sequence '\\P'\n",
      "C:\\Users\\spenc\\AppData\\Local\\Temp\\ipykernel_9436\\3267845276.py:39: SyntaxWarning: invalid escape sequence '\\P'\n",
      "  df = pd.read_csv(\"results\\Prediction_table.csv\")\n"
     ]
    }
   ],
   "source": [
    "import pandas as pd\n",
    "import pymysql\n",
    "from sqlalchemy import create_engine\n",
    "import cryptography\n",
    "\n",
    "# -------------------------\n",
    "# Database connection info\n",
    "# -------------------------\n",
    "DB_NAME = \"stocks_db_TSLA\"\n",
    "USER = \"root\"          # same as in ALTER USER\n",
    "PASSWORD = \"$penceR07\" # same as in ALTER USER\n",
    "HOST = \"localhost\"\n",
    "PORT = 3305\n",
    "TABLE_NAME = \"stock_predictions\"\n",
    "\n",
    "# -------------------------\n",
    "# 1. Create database if it doesn't exist\n",
    "# -------------------------\n",
    "connection = pymysql.connect(\n",
    "    host=HOST,\n",
    "    user=USER,\n",
    "    password=PASSWORD,\n",
    "    port=PORT\n",
    ")\n",
    "cursor = connection.cursor()\n",
    "cursor.execute(f\"CREATE DATABASE IF NOT EXISTS {DB_NAME}\")\n",
    "connection.commit()\n",
    "cursor.close()\n",
    "connection.close()\n",
    "\n",
    "# -------------------------\n",
    "# 2. Create SQLAlchemy engine for the new database\n",
    "# -------------------------\n",
    "DATABASE_URL = f\"mysql+pymysql://{USER}:{PASSWORD}@{HOST}:{PORT}/{DB_NAME}\"\n",
    "engine = create_engine(DATABASE_URL)\n",
    "\n",
    "# -------------------------\n",
    "# 3. Read CSV file\n",
    "# -------------------------\n",
    "df = pd.read_csv(\"results\\Prediction_table.csv\")\n",
    "\n",
    "# Optional: Ensure correct column names/types\n",
    "# df['date'] = pd.to_datetime(df['date'])\n",
    "\n",
    "# -------------------------\n",
    "# 4. Save DataFrame to SQL\n",
    "# -------------------------\n",
    "df.to_sql(\n",
    "    name=TABLE_NAME,\n",
    "    con=engine,\n",
    "    if_exists=\"append\",  # add new rows\n",
    "    index=False\n",
    ")\n",
    "\n",
    "print(f\"✅ Data from Prediction_table.csv saved to MySQL table '{TABLE_NAME}' in database '{DB_NAME}'.\")"
   ]
  },
  {
   "cell_type": "code",
   "execution_count": null,
   "id": "21425a88",
   "metadata": {},
   "outputs": [],
   "source": []
  }
 ],
 "metadata": {
  "kernelspec": {
   "display_name": "ds_ml_env",
   "language": "python",
   "name": "python3"
  },
  "language_info": {
   "codemirror_mode": {
    "name": "ipython",
    "version": 3
   },
   "file_extension": ".py",
   "mimetype": "text/x-python",
   "name": "python",
   "nbconvert_exporter": "python",
   "pygments_lexer": "ipython3",
   "version": "3.13.5"
  }
 },
 "nbformat": 4,
 "nbformat_minor": 5
}
