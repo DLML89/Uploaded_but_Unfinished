{
 "cells": [
  {
   "cell_type": "markdown",
   "id": "ebde9c47",
   "metadata": {},
   "source": [
    "#### **Meaning of Columns Headers**"
   ]
  },
  {
   "cell_type": "code",
   "execution_count": 1,
   "id": "6d5fdd62",
   "metadata": {},
   "outputs": [],
   "source": [
    "#📋 Column Meanings\n",
    "# Column\tMeaning\n",
    "# CLIENTNUM\tUnique ID for each customer (anonymous identifier)\n",
    "# Attrition_Flag\tWhether the customer has left (\"Attrited Customer\") or stayed (\"Existing Customer\")\n",
    "# Customer_Age\tAge of the customer\n",
    "# Gender\tMale or Female\n",
    "# Dependent_count\tNumber of dependents\n",
    "# Education_Level\tEducation level (e.g., Graduate, High School, etc.)\n",
    "# Marital_Status\tMarital status (Married, Single, etc.)\n",
    "# Income_Category\tIncome range (e.g., \"<$40K\", \"$60K - $80K\", etc.)\n",
    "# Card_Category\tType of credit card (e.g., Blue, Silver, Platinum, Gold)\n",
    "# Months_on_book\tDuration (in months) the account has been active\n",
    "# Total_Relationship_Count\tNumber of products held with the bank\n",
    "# Months_Inactive_12_mon\tNumber of months the customer was inactive in the last 12 months\n",
    "# Contacts_Count_12_mon\tNumber of contacts (e.g., calls) with the bank in the last 12 months\n",
    "# Credit_Limit\tCredit limit on the card\n",
    "# Total_Revolving_Bal\tBalance carried from one month to the next (not paid off)\n",
    "# Avg_Open_To_Buy\tAverage available amount to spend (credit limit - current balance)\n",
    "# Total_Amt_Chng_Q4_Q1\tChange in transaction amount from Q1 to Q4 (previous year)\n",
    "# Total_Trans_Amt\tTotal transaction amount in the last 12 months\n",
    "# Total_Trans_Ct\tTotal number of transactions in the last 12 months\n",
    "# Total_Ct_Chng_Q4_Q1\tChange in transaction count from Q1 to Q4 (previous year)\n",
    "# Avg_Utilization_Ratio\tRatio of revolving balance to credit limit (how much of the credit is used)\n",
    "\n",
    "# https://creativecommons.org/publicdomain/zero/1.0/"
   ]
  },
  {
   "cell_type": "markdown",
   "id": "dd9fc0b0",
   "metadata": {},
   "source": [
    "#### **Import Packages**"
   ]
  },
  {
   "cell_type": "code",
   "execution_count": 2,
   "id": "f3f476d6",
   "metadata": {},
   "outputs": [],
   "source": [
    "import pandas as pd\n",
    "import numpy as np\n",
    "\n",
    "from sklearn.model_selection import train_test_split, GridSearchCV\n",
    "from sklearn.preprocessing import OneHotEncoder, StandardScaler\n",
    "from sklearn.compose import ColumnTransformer\n",
    "from sklearn.pipeline import Pipeline\n",
    "from sklearn.linear_model import LogisticRegression\n",
    "from sklearn.ensemble import RandomForestClassifier\n",
    "from sklearn.metrics import accuracy_score, precision_score, recall_score, f1_score, confusion_matrix, classification_report, roc_auc_score\n",
    "import matplotlib.pyplot as plt\n",
    "import seaborn as sns"
   ]
  },
  {
   "cell_type": "markdown",
   "id": "6cec0e33",
   "metadata": {},
   "source": [
    "#### **Loading Data, Preprocessing and Features Engineering**"
   ]
  },
  {
   "cell_type": "code",
   "execution_count": 3,
   "id": "e8bba728",
   "metadata": {},
   "outputs": [],
   "source": [
    "raw_data = pd.read_csv('BankChurners.csv/BankChurners.csv')\n",
    "df_cc = raw_data.copy()\n",
    "df_cc['Attrition_Flag'] = df_cc['Attrition_Flag'].map({'Existing Customer': 1, 'Attrited Customer': 0})\n",
    "marital_dummies = pd.get_dummies(df_cc['Marital_Status'], prefix='Marital').astype(int)\n",
    "df_cc = pd.concat([df_cc.drop('Marital_Status', axis=1), marital_dummies], axis=1)\n",
    "\n",
    "education_dummies = pd.get_dummies(df_cc['Education_Level'], prefix='Edu').astype(int)\n",
    "df_cc = pd.concat([df_cc.drop('Education_Level', axis=1), education_dummies], axis=1)\n",
    "\n",
    "df_cc['Gender'] = df_cc['Gender'].map({'M': 1, 'F': 0})\n",
    "df_cc['Gender'] = df_cc['Gender'].replace('Unknown', np.nan)\n",
    "\n",
    "card_order = {\n",
    "    'Blue': 0,\n",
    "    'Silver': 1,\n",
    "    'Gold': 2,\n",
    "    'Platinum': 3\n",
    "}\n",
    "df_cc['Card_Category'] = df_cc['Card_Category'].map(card_order)\n",
    "\n",
    "income_map = {\n",
    "    'Less than $40K': 0,\n",
    "    '$40K - $60K': 1,\n",
    "    '$60K - $80K': 2,\n",
    "    '$80K - $120K': 3,\n",
    "    '$120K +': 4,\n",
    "    'Unknown': np.nan  # Or use -1 or median later\n",
    "}\n",
    "\n",
    "df_cc['Income_Category'] = df_cc['Income_Category'].map(income_map)\n",
    "\n",
    "df_cc['Income_Unknown_Flag'] = (df_cc['Income_Category'].isna()).astype(int)\n",
    "\n",
    "df_cc.drop([\n",
    "    'Naive_Bayes_Classifier_Attrition_Flag_Card_Category_Contacts_Count_12_mon_Dependent_count_Education_Level_Months_Inactive_12_mon_1',\n",
    "    'Naive_Bayes_Classifier_Attrition_Flag_Card_Category_Contacts_Count_12_mon_Dependent_count_Education_Level_Months_Inactive_12_mon_2'\n",
    "], axis=1, inplace=True)\n",
    "\n",
    "df_cc.dropna(inplace=True)"
   ]
  },
  {
   "cell_type": "code",
   "execution_count": 4,
   "id": "714d3e5a",
   "metadata": {},
   "outputs": [],
   "source": [
    "features = ['Customer_Age', 'Gender',\n",
    "       'Dependent_count', 'Income_Category', 'Card_Category',\n",
    "       'Months_on_book', 'Total_Relationship_Count',\n",
    "       'Months_Inactive_12_mon', 'Contacts_Count_12_mon', 'Credit_Limit',\n",
    "       'Total_Revolving_Bal', 'Avg_Open_To_Buy', 'Total_Amt_Chng_Q4_Q1',\n",
    "       'Total_Trans_Amt', 'Total_Trans_Ct', 'Total_Ct_Chng_Q4_Q1',\n",
    "       'Avg_Utilization_Ratio', 'Marital_Divorced', 'Marital_Married',\n",
    "       'Marital_Single', 'Marital_Unknown', 'Edu_College',\n",
    "       'Edu_Doctorate', 'Edu_Graduate', 'Edu_High School',\n",
    "       'Edu_Post-Graduate', 'Edu_Uneducated', 'Edu_Unknown',\n",
    "       'Income_Unknown_Flag']"
   ]
  },
  {
   "cell_type": "markdown",
   "id": "c45079b4",
   "metadata": {},
   "source": [
    "#### **Splitting, Scaling and Training Data**"
   ]
  },
  {
   "cell_type": "code",
   "execution_count": 5,
   "id": "9452f096",
   "metadata": {},
   "outputs": [],
   "source": [
    "X = df_cc[features]\n",
    "y = df_cc['Attrition_Flag']"
   ]
  },
  {
   "cell_type": "code",
   "execution_count": 6,
   "id": "aaf998a2",
   "metadata": {},
   "outputs": [],
   "source": [
    "# Split data\n",
    "X = df_cc[features]\n",
    "y = df_cc['Attrition_Flag']\n",
    "\n",
    "X_train, X_test, y_train, y_test = train_test_split(\n",
    "    X, y, test_size=0.2, random_state=42, stratify=y\n",
    ")\n",
    "\n",
    "# Define pipeline\n",
    "pipe = Pipeline([\n",
    "    ('scaler', StandardScaler()),\n",
    "    ('model', LogisticRegression(class_weight='balanced'))  # Replace with any classifier\n",
    "])\n",
    "\n",
    "# Train pipeline\n",
    "pipe.fit(X_train, y_train)\n",
    "y_proba = pipe.predict_proba(X_test)[:, 1]\n",
    "y_pred = pipe.predict(X_test)"
   ]
  },
  {
   "cell_type": "markdown",
   "id": "1f44c151",
   "metadata": {},
   "source": [
    "#### **DataFrame for better interpretation**"
   ]
  },
  {
   "cell_type": "code",
   "execution_count": 7,
   "id": "eb68686b",
   "metadata": {},
   "outputs": [
    {
     "data": {
      "application/vnd.microsoft.datawrangler.viewer.v0+json": {
       "columns": [
        {
         "name": "index",
         "rawType": "int64",
         "type": "integer"
        },
        {
         "name": "Actual",
         "rawType": "int64",
         "type": "integer"
        },
        {
         "name": "Predicted",
         "rawType": "int64",
         "type": "integer"
        },
        {
         "name": "Probability_Positive",
         "rawType": "float64",
         "type": "float"
        },
        {
         "name": "Customer_Age",
         "rawType": "int64",
         "type": "integer"
        },
        {
         "name": "Gender",
         "rawType": "int64",
         "type": "integer"
        },
        {
         "name": "Dependent_count",
         "rawType": "int64",
         "type": "integer"
        },
        {
         "name": "Income_Category",
         "rawType": "float64",
         "type": "float"
        },
        {
         "name": "Card_Category",
         "rawType": "int64",
         "type": "integer"
        },
        {
         "name": "Months_on_book",
         "rawType": "int64",
         "type": "integer"
        },
        {
         "name": "Total_Relationship_Count",
         "rawType": "int64",
         "type": "integer"
        },
        {
         "name": "Months_Inactive_12_mon",
         "rawType": "int64",
         "type": "integer"
        },
        {
         "name": "Contacts_Count_12_mon",
         "rawType": "int64",
         "type": "integer"
        },
        {
         "name": "Credit_Limit",
         "rawType": "float64",
         "type": "float"
        },
        {
         "name": "Total_Revolving_Bal",
         "rawType": "int64",
         "type": "integer"
        },
        {
         "name": "Avg_Open_To_Buy",
         "rawType": "float64",
         "type": "float"
        },
        {
         "name": "Total_Amt_Chng_Q4_Q1",
         "rawType": "float64",
         "type": "float"
        },
        {
         "name": "Total_Trans_Amt",
         "rawType": "int64",
         "type": "integer"
        },
        {
         "name": "Total_Trans_Ct",
         "rawType": "int64",
         "type": "integer"
        },
        {
         "name": "Total_Ct_Chng_Q4_Q1",
         "rawType": "float64",
         "type": "float"
        },
        {
         "name": "Avg_Utilization_Ratio",
         "rawType": "float64",
         "type": "float"
        },
        {
         "name": "Marital_Divorced",
         "rawType": "int64",
         "type": "integer"
        },
        {
         "name": "Marital_Married",
         "rawType": "int64",
         "type": "integer"
        },
        {
         "name": "Marital_Single",
         "rawType": "int64",
         "type": "integer"
        },
        {
         "name": "Marital_Unknown",
         "rawType": "int64",
         "type": "integer"
        },
        {
         "name": "Edu_College",
         "rawType": "int64",
         "type": "integer"
        },
        {
         "name": "Edu_Doctorate",
         "rawType": "int64",
         "type": "integer"
        },
        {
         "name": "Edu_Graduate",
         "rawType": "int64",
         "type": "integer"
        },
        {
         "name": "Edu_High School",
         "rawType": "int64",
         "type": "integer"
        },
        {
         "name": "Edu_Post-Graduate",
         "rawType": "int64",
         "type": "integer"
        },
        {
         "name": "Edu_Uneducated",
         "rawType": "int64",
         "type": "integer"
        },
        {
         "name": "Edu_Unknown",
         "rawType": "int64",
         "type": "integer"
        },
        {
         "name": "Income_Unknown_Flag",
         "rawType": "int64",
         "type": "integer"
        },
        {
         "name": "Correct",
         "rawType": "int64",
         "type": "integer"
        }
       ],
       "ref": "442aa8ad-0b51-4d35-ab45-6407ecd9d232",
       "rows": [
        [
         "2130",
         "1",
         "1",
         "0.6282593658856089",
         "59",
         "1",
         "2",
         "1.0",
         "0",
         "50",
         "6",
         "3",
         "2",
         "2701.0",
         "1572",
         "1129.0",
         "0.475",
         "1469",
         "36",
         "0.5",
         "0.582",
         "0",
         "1",
         "0",
         "0",
         "0",
         "0",
         "0",
         "1",
         "0",
         "0",
         "0",
         "0",
         "1"
        ],
        [
         "5655",
         "1",
         "1",
         "0.999219100072909",
         "64",
         "1",
         "1",
         "0.0",
         "0",
         "52",
         "5",
         "3",
         "2",
         "2563.0",
         "2242",
         "321.0",
         "1.114",
         "3942",
         "84",
         "0.826",
         "0.875",
         "0",
         "0",
         "1",
         "0",
         "0",
         "0",
         "1",
         "0",
         "0",
         "0",
         "0",
         "0",
         "1"
        ],
        [
         "1135",
         "1",
         "1",
         "0.8143570988366994",
         "38",
         "1",
         "4",
         "3.0",
         "2",
         "36",
         "6",
         "1",
         "3",
         "34516.0",
         "1140",
         "33376.0",
         "0.815",
         "1445",
         "45",
         "0.957",
         "0.033",
         "0",
         "0",
         "1",
         "0",
         "0",
         "0",
         "0",
         "1",
         "0",
         "0",
         "0",
         "0",
         "1"
        ],
        [
         "3843",
         "1",
         "0",
         "0.0871156890240148",
         "50",
         "0",
         "4",
         "1.0",
         "0",
         "22",
         "5",
         "2",
         "3",
         "7853.0",
         "1343",
         "6510.0",
         "0.491",
         "1814",
         "37",
         "0.37",
         "0.171",
         "0",
         "0",
         "1",
         "0",
         "0",
         "0",
         "0",
         "0",
         "0",
         "1",
         "0",
         "0",
         "0"
        ],
        [
         "6593",
         "1",
         "1",
         "0.9494581201803367",
         "46",
         "1",
         "2",
         "4.0",
         "0",
         "34",
         "6",
         "3",
         "1",
         "3499.0",
         "1759",
         "1740.0",
         "0.635",
         "3972",
         "67",
         "0.558",
         "0.503",
         "0",
         "1",
         "0",
         "0",
         "0",
         "1",
         "0",
         "0",
         "0",
         "0",
         "0",
         "0",
         "1"
        ]
       ],
       "shape": {
        "columns": 33,
        "rows": 5
       }
      },
      "text/html": [
       "<div>\n",
       "<style scoped>\n",
       "    .dataframe tbody tr th:only-of-type {\n",
       "        vertical-align: middle;\n",
       "    }\n",
       "\n",
       "    .dataframe tbody tr th {\n",
       "        vertical-align: top;\n",
       "    }\n",
       "\n",
       "    .dataframe thead th {\n",
       "        text-align: right;\n",
       "    }\n",
       "</style>\n",
       "<table border=\"1\" class=\"dataframe\">\n",
       "  <thead>\n",
       "    <tr style=\"text-align: right;\">\n",
       "      <th></th>\n",
       "      <th>Actual</th>\n",
       "      <th>Predicted</th>\n",
       "      <th>Probability_Positive</th>\n",
       "      <th>Customer_Age</th>\n",
       "      <th>Gender</th>\n",
       "      <th>Dependent_count</th>\n",
       "      <th>Income_Category</th>\n",
       "      <th>Card_Category</th>\n",
       "      <th>Months_on_book</th>\n",
       "      <th>Total_Relationship_Count</th>\n",
       "      <th>...</th>\n",
       "      <th>Marital_Unknown</th>\n",
       "      <th>Edu_College</th>\n",
       "      <th>Edu_Doctorate</th>\n",
       "      <th>Edu_Graduate</th>\n",
       "      <th>Edu_High School</th>\n",
       "      <th>Edu_Post-Graduate</th>\n",
       "      <th>Edu_Uneducated</th>\n",
       "      <th>Edu_Unknown</th>\n",
       "      <th>Income_Unknown_Flag</th>\n",
       "      <th>Correct</th>\n",
       "    </tr>\n",
       "  </thead>\n",
       "  <tbody>\n",
       "    <tr>\n",
       "      <th>2130</th>\n",
       "      <td>1</td>\n",
       "      <td>1</td>\n",
       "      <td>0.628259</td>\n",
       "      <td>59</td>\n",
       "      <td>1</td>\n",
       "      <td>2</td>\n",
       "      <td>1.0</td>\n",
       "      <td>0</td>\n",
       "      <td>50</td>\n",
       "      <td>6</td>\n",
       "      <td>...</td>\n",
       "      <td>0</td>\n",
       "      <td>0</td>\n",
       "      <td>0</td>\n",
       "      <td>0</td>\n",
       "      <td>1</td>\n",
       "      <td>0</td>\n",
       "      <td>0</td>\n",
       "      <td>0</td>\n",
       "      <td>0</td>\n",
       "      <td>1</td>\n",
       "    </tr>\n",
       "    <tr>\n",
       "      <th>5655</th>\n",
       "      <td>1</td>\n",
       "      <td>1</td>\n",
       "      <td>0.999219</td>\n",
       "      <td>64</td>\n",
       "      <td>1</td>\n",
       "      <td>1</td>\n",
       "      <td>0.0</td>\n",
       "      <td>0</td>\n",
       "      <td>52</td>\n",
       "      <td>5</td>\n",
       "      <td>...</td>\n",
       "      <td>0</td>\n",
       "      <td>0</td>\n",
       "      <td>0</td>\n",
       "      <td>1</td>\n",
       "      <td>0</td>\n",
       "      <td>0</td>\n",
       "      <td>0</td>\n",
       "      <td>0</td>\n",
       "      <td>0</td>\n",
       "      <td>1</td>\n",
       "    </tr>\n",
       "    <tr>\n",
       "      <th>1135</th>\n",
       "      <td>1</td>\n",
       "      <td>1</td>\n",
       "      <td>0.814357</td>\n",
       "      <td>38</td>\n",
       "      <td>1</td>\n",
       "      <td>4</td>\n",
       "      <td>3.0</td>\n",
       "      <td>2</td>\n",
       "      <td>36</td>\n",
       "      <td>6</td>\n",
       "      <td>...</td>\n",
       "      <td>0</td>\n",
       "      <td>0</td>\n",
       "      <td>0</td>\n",
       "      <td>0</td>\n",
       "      <td>1</td>\n",
       "      <td>0</td>\n",
       "      <td>0</td>\n",
       "      <td>0</td>\n",
       "      <td>0</td>\n",
       "      <td>1</td>\n",
       "    </tr>\n",
       "    <tr>\n",
       "      <th>3843</th>\n",
       "      <td>1</td>\n",
       "      <td>0</td>\n",
       "      <td>0.087116</td>\n",
       "      <td>50</td>\n",
       "      <td>0</td>\n",
       "      <td>4</td>\n",
       "      <td>1.0</td>\n",
       "      <td>0</td>\n",
       "      <td>22</td>\n",
       "      <td>5</td>\n",
       "      <td>...</td>\n",
       "      <td>0</td>\n",
       "      <td>0</td>\n",
       "      <td>0</td>\n",
       "      <td>0</td>\n",
       "      <td>0</td>\n",
       "      <td>0</td>\n",
       "      <td>1</td>\n",
       "      <td>0</td>\n",
       "      <td>0</td>\n",
       "      <td>0</td>\n",
       "    </tr>\n",
       "    <tr>\n",
       "      <th>6593</th>\n",
       "      <td>1</td>\n",
       "      <td>1</td>\n",
       "      <td>0.949458</td>\n",
       "      <td>46</td>\n",
       "      <td>1</td>\n",
       "      <td>2</td>\n",
       "      <td>4.0</td>\n",
       "      <td>0</td>\n",
       "      <td>34</td>\n",
       "      <td>6</td>\n",
       "      <td>...</td>\n",
       "      <td>0</td>\n",
       "      <td>0</td>\n",
       "      <td>1</td>\n",
       "      <td>0</td>\n",
       "      <td>0</td>\n",
       "      <td>0</td>\n",
       "      <td>0</td>\n",
       "      <td>0</td>\n",
       "      <td>0</td>\n",
       "      <td>1</td>\n",
       "    </tr>\n",
       "  </tbody>\n",
       "</table>\n",
       "<p>5 rows × 33 columns</p>\n",
       "</div>"
      ],
      "text/plain": [
       "      Actual  Predicted  Probability_Positive  Customer_Age  Gender  \\\n",
       "2130       1          1              0.628259            59       1   \n",
       "5655       1          1              0.999219            64       1   \n",
       "1135       1          1              0.814357            38       1   \n",
       "3843       1          0              0.087116            50       0   \n",
       "6593       1          1              0.949458            46       1   \n",
       "\n",
       "      Dependent_count  Income_Category  Card_Category  Months_on_book  \\\n",
       "2130                2              1.0              0              50   \n",
       "5655                1              0.0              0              52   \n",
       "1135                4              3.0              2              36   \n",
       "3843                4              1.0              0              22   \n",
       "6593                2              4.0              0              34   \n",
       "\n",
       "      Total_Relationship_Count  ...  Marital_Unknown  Edu_College  \\\n",
       "2130                         6  ...                0            0   \n",
       "5655                         5  ...                0            0   \n",
       "1135                         6  ...                0            0   \n",
       "3843                         5  ...                0            0   \n",
       "6593                         6  ...                0            0   \n",
       "\n",
       "      Edu_Doctorate  Edu_Graduate  Edu_High School  Edu_Post-Graduate  \\\n",
       "2130              0             0                1                  0   \n",
       "5655              0             1                0                  0   \n",
       "1135              0             0                1                  0   \n",
       "3843              0             0                0                  0   \n",
       "6593              1             0                0                  0   \n",
       "\n",
       "      Edu_Uneducated  Edu_Unknown  Income_Unknown_Flag  Correct  \n",
       "2130               0            0                    0        1  \n",
       "5655               0            0                    0        1  \n",
       "1135               0            0                    0        1  \n",
       "3843               1            0                    0        0  \n",
       "6593               0            0                    0        1  \n",
       "\n",
       "[5 rows x 33 columns]"
      ]
     },
     "execution_count": 7,
     "metadata": {},
     "output_type": "execute_result"
    }
   ],
   "source": [
    "selected_features = ['Customer_Age', 'Gender',\n",
    "       'Dependent_count', 'Income_Category', 'Card_Category',\n",
    "       'Months_on_book', 'Total_Relationship_Count',\n",
    "       'Months_Inactive_12_mon', 'Contacts_Count_12_mon', 'Credit_Limit',\n",
    "       'Total_Revolving_Bal', 'Avg_Open_To_Buy', 'Total_Amt_Chng_Q4_Q1',\n",
    "       'Total_Trans_Amt', 'Total_Trans_Ct', 'Total_Ct_Chng_Q4_Q1',\n",
    "       'Avg_Utilization_Ratio', 'Marital_Divorced', 'Marital_Married',\n",
    "       'Marital_Single', 'Marital_Unknown', 'Edu_College',\n",
    "       'Edu_Doctorate', 'Edu_Graduate', 'Edu_High School',\n",
    "       'Edu_Post-Graduate', 'Edu_Uneducated', 'Edu_Unknown',\n",
    "       'Income_Unknown_Flag']\n",
    "\n",
    "# Create DataFrame with actual, predicted, and predicted probability\n",
    "results_df = pd.DataFrame({\n",
    "    'Actual': y_test,\n",
    "    'Predicted': y_pred,\n",
    "    'Probability_Positive': y_proba\n",
    "}, index=X_test.index)\n",
    "\n",
    "# Add selected features from X_test\n",
    "results_df = pd.concat([results_df, X_test[selected_features]], axis=1)\n",
    "\n",
    "# Add correctness flag\n",
    "results_df['Correct'] = (results_df['Actual'] == results_df['Predicted']).astype(int)\n",
    "\n",
    "# Display first few rows\n",
    "results_df.head()\n"
   ]
  },
  {
   "cell_type": "markdown",
   "id": "5188bc98",
   "metadata": {},
   "source": [
    "#### **Rearranging Columns**"
   ]
  },
  {
   "cell_type": "code",
   "execution_count": 8,
   "id": "be525c5f",
   "metadata": {},
   "outputs": [],
   "source": [
    "results_df = results_df[['Customer_Age',\n",
    "       'Gender', 'Dependent_count', 'Income_Category', 'Card_Category',\n",
    "       'Months_on_book', 'Total_Relationship_Count',\n",
    "       'Months_Inactive_12_mon', 'Contacts_Count_12_mon', 'Credit_Limit',\n",
    "       'Total_Revolving_Bal', 'Avg_Open_To_Buy', 'Total_Amt_Chng_Q4_Q1',\n",
    "       'Total_Trans_Amt', 'Total_Trans_Ct', 'Total_Ct_Chng_Q4_Q1',\n",
    "       'Avg_Utilization_Ratio', 'Marital_Divorced', 'Marital_Married',\n",
    "       'Marital_Single', 'Marital_Unknown', 'Edu_College',\n",
    "       'Edu_Doctorate', 'Edu_Graduate', 'Edu_High School',\n",
    "       'Edu_Post-Graduate', 'Edu_Uneducated', 'Edu_Unknown',\n",
    "       'Income_Unknown_Flag', 'Actual', 'Predicted', 'Probability_Positive', 'Correct']]"
   ]
  },
  {
   "cell_type": "code",
   "execution_count": 9,
   "id": "5195dcaa",
   "metadata": {},
   "outputs": [
    {
     "data": {
      "application/vnd.microsoft.datawrangler.viewer.v0+json": {
       "columns": [
        {
         "name": "index",
         "rawType": "int64",
         "type": "integer"
        },
        {
         "name": "Customer_Age",
         "rawType": "int64",
         "type": "integer"
        },
        {
         "name": "Gender",
         "rawType": "int64",
         "type": "integer"
        },
        {
         "name": "Dependent_count",
         "rawType": "int64",
         "type": "integer"
        },
        {
         "name": "Income_Category",
         "rawType": "float64",
         "type": "float"
        },
        {
         "name": "Card_Category",
         "rawType": "int64",
         "type": "integer"
        },
        {
         "name": "Months_on_book",
         "rawType": "int64",
         "type": "integer"
        },
        {
         "name": "Total_Relationship_Count",
         "rawType": "int64",
         "type": "integer"
        },
        {
         "name": "Months_Inactive_12_mon",
         "rawType": "int64",
         "type": "integer"
        },
        {
         "name": "Contacts_Count_12_mon",
         "rawType": "int64",
         "type": "integer"
        },
        {
         "name": "Credit_Limit",
         "rawType": "float64",
         "type": "float"
        },
        {
         "name": "Total_Revolving_Bal",
         "rawType": "int64",
         "type": "integer"
        },
        {
         "name": "Avg_Open_To_Buy",
         "rawType": "float64",
         "type": "float"
        },
        {
         "name": "Total_Amt_Chng_Q4_Q1",
         "rawType": "float64",
         "type": "float"
        },
        {
         "name": "Total_Trans_Amt",
         "rawType": "int64",
         "type": "integer"
        },
        {
         "name": "Total_Trans_Ct",
         "rawType": "int64",
         "type": "integer"
        },
        {
         "name": "Total_Ct_Chng_Q4_Q1",
         "rawType": "float64",
         "type": "float"
        },
        {
         "name": "Avg_Utilization_Ratio",
         "rawType": "float64",
         "type": "float"
        },
        {
         "name": "Marital_Divorced",
         "rawType": "int64",
         "type": "integer"
        },
        {
         "name": "Marital_Married",
         "rawType": "int64",
         "type": "integer"
        },
        {
         "name": "Marital_Single",
         "rawType": "int64",
         "type": "integer"
        },
        {
         "name": "Marital_Unknown",
         "rawType": "int64",
         "type": "integer"
        },
        {
         "name": "Edu_College",
         "rawType": "int64",
         "type": "integer"
        },
        {
         "name": "Edu_Doctorate",
         "rawType": "int64",
         "type": "integer"
        },
        {
         "name": "Edu_Graduate",
         "rawType": "int64",
         "type": "integer"
        },
        {
         "name": "Edu_High School",
         "rawType": "int64",
         "type": "integer"
        },
        {
         "name": "Edu_Post-Graduate",
         "rawType": "int64",
         "type": "integer"
        },
        {
         "name": "Edu_Uneducated",
         "rawType": "int64",
         "type": "integer"
        },
        {
         "name": "Edu_Unknown",
         "rawType": "int64",
         "type": "integer"
        },
        {
         "name": "Income_Unknown_Flag",
         "rawType": "int64",
         "type": "integer"
        },
        {
         "name": "Actual",
         "rawType": "int64",
         "type": "integer"
        },
        {
         "name": "Predicted",
         "rawType": "int64",
         "type": "integer"
        },
        {
         "name": "Probability_Positive",
         "rawType": "float64",
         "type": "float"
        },
        {
         "name": "Correct",
         "rawType": "int64",
         "type": "integer"
        }
       ],
       "ref": "64aaff25-e8c7-4a44-98e1-b0eb754e2de0",
       "rows": [
        [
         "2130",
         "59",
         "1",
         "2",
         "1.0",
         "0",
         "50",
         "6",
         "3",
         "2",
         "2701.0",
         "1572",
         "1129.0",
         "0.475",
         "1469",
         "36",
         "0.5",
         "0.582",
         "0",
         "1",
         "0",
         "0",
         "0",
         "0",
         "0",
         "1",
         "0",
         "0",
         "0",
         "0",
         "1",
         "1",
         "0.6282593658856089",
         "1"
        ],
        [
         "5655",
         "64",
         "1",
         "1",
         "0.0",
         "0",
         "52",
         "5",
         "3",
         "2",
         "2563.0",
         "2242",
         "321.0",
         "1.114",
         "3942",
         "84",
         "0.826",
         "0.875",
         "0",
         "0",
         "1",
         "0",
         "0",
         "0",
         "1",
         "0",
         "0",
         "0",
         "0",
         "0",
         "1",
         "1",
         "0.999219100072909",
         "1"
        ],
        [
         "1135",
         "38",
         "1",
         "4",
         "3.0",
         "2",
         "36",
         "6",
         "1",
         "3",
         "34516.0",
         "1140",
         "33376.0",
         "0.815",
         "1445",
         "45",
         "0.957",
         "0.033",
         "0",
         "0",
         "1",
         "0",
         "0",
         "0",
         "0",
         "1",
         "0",
         "0",
         "0",
         "0",
         "1",
         "1",
         "0.8143570988366994",
         "1"
        ],
        [
         "3843",
         "50",
         "0",
         "4",
         "1.0",
         "0",
         "22",
         "5",
         "2",
         "3",
         "7853.0",
         "1343",
         "6510.0",
         "0.491",
         "1814",
         "37",
         "0.37",
         "0.171",
         "0",
         "0",
         "1",
         "0",
         "0",
         "0",
         "0",
         "0",
         "0",
         "1",
         "0",
         "0",
         "1",
         "0",
         "0.0871156890240148",
         "0"
        ],
        [
         "6593",
         "46",
         "1",
         "2",
         "4.0",
         "0",
         "34",
         "6",
         "3",
         "1",
         "3499.0",
         "1759",
         "1740.0",
         "0.635",
         "3972",
         "67",
         "0.558",
         "0.503",
         "0",
         "1",
         "0",
         "0",
         "0",
         "1",
         "0",
         "0",
         "0",
         "0",
         "0",
         "0",
         "1",
         "1",
         "0.9494581201803367",
         "1"
        ]
       ],
       "shape": {
        "columns": 33,
        "rows": 5
       }
      },
      "text/html": [
       "<div>\n",
       "<style scoped>\n",
       "    .dataframe tbody tr th:only-of-type {\n",
       "        vertical-align: middle;\n",
       "    }\n",
       "\n",
       "    .dataframe tbody tr th {\n",
       "        vertical-align: top;\n",
       "    }\n",
       "\n",
       "    .dataframe thead th {\n",
       "        text-align: right;\n",
       "    }\n",
       "</style>\n",
       "<table border=\"1\" class=\"dataframe\">\n",
       "  <thead>\n",
       "    <tr style=\"text-align: right;\">\n",
       "      <th></th>\n",
       "      <th>Customer_Age</th>\n",
       "      <th>Gender</th>\n",
       "      <th>Dependent_count</th>\n",
       "      <th>Income_Category</th>\n",
       "      <th>Card_Category</th>\n",
       "      <th>Months_on_book</th>\n",
       "      <th>Total_Relationship_Count</th>\n",
       "      <th>Months_Inactive_12_mon</th>\n",
       "      <th>Contacts_Count_12_mon</th>\n",
       "      <th>Credit_Limit</th>\n",
       "      <th>...</th>\n",
       "      <th>Edu_Graduate</th>\n",
       "      <th>Edu_High School</th>\n",
       "      <th>Edu_Post-Graduate</th>\n",
       "      <th>Edu_Uneducated</th>\n",
       "      <th>Edu_Unknown</th>\n",
       "      <th>Income_Unknown_Flag</th>\n",
       "      <th>Actual</th>\n",
       "      <th>Predicted</th>\n",
       "      <th>Probability_Positive</th>\n",
       "      <th>Correct</th>\n",
       "    </tr>\n",
       "  </thead>\n",
       "  <tbody>\n",
       "    <tr>\n",
       "      <th>2130</th>\n",
       "      <td>59</td>\n",
       "      <td>1</td>\n",
       "      <td>2</td>\n",
       "      <td>1.0</td>\n",
       "      <td>0</td>\n",
       "      <td>50</td>\n",
       "      <td>6</td>\n",
       "      <td>3</td>\n",
       "      <td>2</td>\n",
       "      <td>2701.0</td>\n",
       "      <td>...</td>\n",
       "      <td>0</td>\n",
       "      <td>1</td>\n",
       "      <td>0</td>\n",
       "      <td>0</td>\n",
       "      <td>0</td>\n",
       "      <td>0</td>\n",
       "      <td>1</td>\n",
       "      <td>1</td>\n",
       "      <td>0.628259</td>\n",
       "      <td>1</td>\n",
       "    </tr>\n",
       "    <tr>\n",
       "      <th>5655</th>\n",
       "      <td>64</td>\n",
       "      <td>1</td>\n",
       "      <td>1</td>\n",
       "      <td>0.0</td>\n",
       "      <td>0</td>\n",
       "      <td>52</td>\n",
       "      <td>5</td>\n",
       "      <td>3</td>\n",
       "      <td>2</td>\n",
       "      <td>2563.0</td>\n",
       "      <td>...</td>\n",
       "      <td>1</td>\n",
       "      <td>0</td>\n",
       "      <td>0</td>\n",
       "      <td>0</td>\n",
       "      <td>0</td>\n",
       "      <td>0</td>\n",
       "      <td>1</td>\n",
       "      <td>1</td>\n",
       "      <td>0.999219</td>\n",
       "      <td>1</td>\n",
       "    </tr>\n",
       "    <tr>\n",
       "      <th>1135</th>\n",
       "      <td>38</td>\n",
       "      <td>1</td>\n",
       "      <td>4</td>\n",
       "      <td>3.0</td>\n",
       "      <td>2</td>\n",
       "      <td>36</td>\n",
       "      <td>6</td>\n",
       "      <td>1</td>\n",
       "      <td>3</td>\n",
       "      <td>34516.0</td>\n",
       "      <td>...</td>\n",
       "      <td>0</td>\n",
       "      <td>1</td>\n",
       "      <td>0</td>\n",
       "      <td>0</td>\n",
       "      <td>0</td>\n",
       "      <td>0</td>\n",
       "      <td>1</td>\n",
       "      <td>1</td>\n",
       "      <td>0.814357</td>\n",
       "      <td>1</td>\n",
       "    </tr>\n",
       "    <tr>\n",
       "      <th>3843</th>\n",
       "      <td>50</td>\n",
       "      <td>0</td>\n",
       "      <td>4</td>\n",
       "      <td>1.0</td>\n",
       "      <td>0</td>\n",
       "      <td>22</td>\n",
       "      <td>5</td>\n",
       "      <td>2</td>\n",
       "      <td>3</td>\n",
       "      <td>7853.0</td>\n",
       "      <td>...</td>\n",
       "      <td>0</td>\n",
       "      <td>0</td>\n",
       "      <td>0</td>\n",
       "      <td>1</td>\n",
       "      <td>0</td>\n",
       "      <td>0</td>\n",
       "      <td>1</td>\n",
       "      <td>0</td>\n",
       "      <td>0.087116</td>\n",
       "      <td>0</td>\n",
       "    </tr>\n",
       "    <tr>\n",
       "      <th>6593</th>\n",
       "      <td>46</td>\n",
       "      <td>1</td>\n",
       "      <td>2</td>\n",
       "      <td>4.0</td>\n",
       "      <td>0</td>\n",
       "      <td>34</td>\n",
       "      <td>6</td>\n",
       "      <td>3</td>\n",
       "      <td>1</td>\n",
       "      <td>3499.0</td>\n",
       "      <td>...</td>\n",
       "      <td>0</td>\n",
       "      <td>0</td>\n",
       "      <td>0</td>\n",
       "      <td>0</td>\n",
       "      <td>0</td>\n",
       "      <td>0</td>\n",
       "      <td>1</td>\n",
       "      <td>1</td>\n",
       "      <td>0.949458</td>\n",
       "      <td>1</td>\n",
       "    </tr>\n",
       "  </tbody>\n",
       "</table>\n",
       "<p>5 rows × 33 columns</p>\n",
       "</div>"
      ],
      "text/plain": [
       "      Customer_Age  Gender  Dependent_count  Income_Category  Card_Category  \\\n",
       "2130            59       1                2              1.0              0   \n",
       "5655            64       1                1              0.0              0   \n",
       "1135            38       1                4              3.0              2   \n",
       "3843            50       0                4              1.0              0   \n",
       "6593            46       1                2              4.0              0   \n",
       "\n",
       "      Months_on_book  Total_Relationship_Count  Months_Inactive_12_mon  \\\n",
       "2130              50                         6                       3   \n",
       "5655              52                         5                       3   \n",
       "1135              36                         6                       1   \n",
       "3843              22                         5                       2   \n",
       "6593              34                         6                       3   \n",
       "\n",
       "      Contacts_Count_12_mon  Credit_Limit  ...  Edu_Graduate  Edu_High School  \\\n",
       "2130                      2        2701.0  ...             0                1   \n",
       "5655                      2        2563.0  ...             1                0   \n",
       "1135                      3       34516.0  ...             0                1   \n",
       "3843                      3        7853.0  ...             0                0   \n",
       "6593                      1        3499.0  ...             0                0   \n",
       "\n",
       "      Edu_Post-Graduate  Edu_Uneducated  Edu_Unknown  Income_Unknown_Flag  \\\n",
       "2130                  0               0            0                    0   \n",
       "5655                  0               0            0                    0   \n",
       "1135                  0               0            0                    0   \n",
       "3843                  0               1            0                    0   \n",
       "6593                  0               0            0                    0   \n",
       "\n",
       "      Actual  Predicted  Probability_Positive  Correct  \n",
       "2130       1          1              0.628259        1  \n",
       "5655       1          1              0.999219        1  \n",
       "1135       1          1              0.814357        1  \n",
       "3843       1          0              0.087116        0  \n",
       "6593       1          1              0.949458        1  \n",
       "\n",
       "[5 rows x 33 columns]"
      ]
     },
     "execution_count": 9,
     "metadata": {},
     "output_type": "execute_result"
    }
   ],
   "source": [
    "results_df.head()"
   ]
  },
  {
   "cell_type": "markdown",
   "id": "225078ee",
   "metadata": {},
   "source": [
    "#### **Evaluation**"
   ]
  },
  {
   "cell_type": "code",
   "execution_count": 10,
   "id": "3d5dcc89",
   "metadata": {},
   "outputs": [],
   "source": [
    "# Accuracy\n",
    "acc = accuracy_score(y_test, y_pred)\n",
    "\n",
    "# Precision\n",
    "precision = precision_score(y_test, y_pred)\n",
    "\n",
    "# Recall\n",
    "recall = recall_score(y_test, y_pred)\n",
    "\n",
    "# F1 Score\n",
    "f1 = f1_score(y_test, y_pred)\n",
    "\n",
    "# AUC-ROC (only for binary classifiers)\n",
    "roc_auc = roc_auc_score(y_test, y_proba)\n",
    "\n",
    "# Confusion Matrix\n",
    "cm = confusion_matrix(y_test, y_pred)\n",
    "\n",
    "# Classification Report (includes precision, recall, f1, support per class)\n",
    "report = classification_report(y_test, y_pred)\n"
   ]
  },
  {
   "cell_type": "code",
   "execution_count": 11,
   "id": "7228523e",
   "metadata": {},
   "outputs": [
    {
     "name": "stdout",
     "output_type": "stream",
     "text": [
      "Accuracy: 0.8275097060454798\n",
      "Precision: 0.956060606060606\n",
      "Recall: 0.833003300330033\n",
      "F1 Score: 0.890299823633157\n",
      "ROC AUC: 0.8956591492482581\n",
      "\n",
      "Confusion Matrix:\n",
      " [[ 230   58]\n",
      " [ 253 1262]]\n",
      "\n",
      "Classification Report:\n",
      "               precision    recall  f1-score   support\n",
      "\n",
      "           0       0.48      0.80      0.60       288\n",
      "           1       0.96      0.83      0.89      1515\n",
      "\n",
      "    accuracy                           0.83      1803\n",
      "   macro avg       0.72      0.82      0.74      1803\n",
      "weighted avg       0.88      0.83      0.84      1803\n",
      "\n"
     ]
    }
   ],
   "source": [
    "print(\"Accuracy:\", acc)\n",
    "print(\"Precision:\", precision)\n",
    "print(\"Recall:\", recall)\n",
    "print(\"F1 Score:\", f1)\n",
    "print(\"ROC AUC:\", roc_auc)\n",
    "print(\"\\nConfusion Matrix:\\n\", cm)\n",
    "print(\"\\nClassification Report:\\n\", report)\n"
   ]
  },
  {
   "cell_type": "markdown",
   "id": "a1682d2f",
   "metadata": {},
   "source": [
    "#### **Visuals**"
   ]
  },
  {
   "cell_type": "code",
   "execution_count": 12,
   "id": "e904a1bc",
   "metadata": {},
   "outputs": [
    {
     "data": {
      "image/png": "[encoded data removed]",
      "text/plain": [
       "<Figure size 640x480 with 2 Axes>"
      ]
     },
     "metadata": {},
     "output_type": "display_data"
    }
   ],
   "source": [
    "sns.heatmap(cm, annot=True, fmt='d', cmap='Blues', xticklabels=['No Churn', 'Churn'], yticklabels=['No Churn', 'Churn'])\n",
    "plt.xlabel('Predicted')\n",
    "plt.ylabel('Actual')\n",
    "plt.title('Confusion Matrix')\n",
    "plt.show()"
   ]
  },
  {
   "cell_type": "markdown",
   "id": "062a9866",
   "metadata": {},
   "source": [
    "#### **Class Weights**"
   ]
  },
  {
   "cell_type": "code",
   "execution_count": 13,
   "id": "5dc1145e",
   "metadata": {},
   "outputs": [
    {
     "name": "stdout",
     "output_type": "stream",
     "text": [
      "Class Weights: balanced\n"
     ]
    }
   ],
   "source": [
    "model = pipe.named_steps['model']\n",
    "\n",
    "print(\"Class Weights:\", model.class_weight)\n"
   ]
  },
  {
   "cell_type": "code",
   "execution_count": 14,
   "id": "b4e1bcc2",
   "metadata": {},
   "outputs": [
    {
     "name": "stdout",
     "output_type": "stream",
     "text": [
      "Computed class weights: {np.int64(0): np.float64(3.1302083333333335), np.int64(1): np.float64(0.595049504950495)}\n"
     ]
    }
   ],
   "source": [
    "from sklearn.utils.class_weight import compute_class_weight\n",
    "\n",
    "class_weights = compute_class_weight(class_weight='balanced', classes=np.unique(y_train), y=y_train)\n",
    "print(\"Computed class weights:\", dict(zip(np.unique(y_train), class_weights)))"
   ]
  },
  {
   "cell_type": "markdown",
   "id": "ce589058",
   "metadata": {},
   "source": [
    "#### **GridSearch**"
   ]
  },
  {
   "cell_type": "code",
   "execution_count": 15,
   "id": "2acb1bc1",
   "metadata": {},
   "outputs": [
    {
     "name": "stdout",
     "output_type": "stream",
     "text": [
      "Best params: {'model__C': 10, 'model__class_weight': None}\n",
      "Best score: 0.9451684654770579\n"
     ]
    }
   ],
   "source": [
    "# Redefine pipeline\n",
    "pipe = Pipeline([\n",
    "    ('scaler', StandardScaler()),\n",
    "    ('model', LogisticRegression(max_iter=1000))\n",
    "])\n",
    "\n",
    "# Parameter grid\n",
    "param_grid = {\n",
    "    'model__C': [0.01, 0.1, 1, 10],\n",
    "    'model__class_weight': [None, 'balanced']\n",
    "}\n",
    "\n",
    "# Grid search\n",
    "grid = GridSearchCV(pipe, param_grid, scoring='f1', cv=5)\n",
    "grid.fit(X_train, y_train)\n",
    "\n",
    "print(\"Best params:\", grid.best_params_)\n",
    "print(\"Best score:\", grid.best_score_)\n"
   ]
  },
  {
   "cell_type": "code",
   "execution_count": 16,
   "id": "92f42f22",
   "metadata": {},
   "outputs": [
    {
     "data": {
      "image/png": "[encoded data removed]",
      "text/plain": [
       "<Figure size 1000x600 with 1 Axes>"
      ]
     },
     "metadata": {},
     "output_type": "display_data"
    }
   ],
   "source": [
    "# Get trained model\n",
    "best_model = grid.best_estimator_.named_steps['model']\n",
    "\n",
    "# Get feature names after scaling (same as input to scaler)\n",
    "feature_names = X_train.columns\n",
    "\n",
    "# Get coefficients\n",
    "coefs = best_model.coef_[0]\n",
    "\n",
    "# Create importance DataFrame\n",
    "importance_df = pd.DataFrame({'Feature': feature_names, 'Coefficient': coefs})\n",
    "importance_df['Abs_Coefficient'] = importance_df['Coefficient'].abs()\n",
    "importance_df = importance_df.sort_values('Abs_Coefficient', ascending=False)\n",
    "\n",
    "# Plot top N\n",
    "top_n = 15\n",
    "plt.figure(figsize=(10, 6))\n",
    "plt.barh(importance_df['Feature'].head(top_n), importance_df['Coefficient'].head(top_n))\n",
    "plt.xlabel(\"Coefficient\")\n",
    "plt.title(\"Top Logistic Regression Feature Importances\")\n",
    "plt.gca().invert_yaxis()\n",
    "plt.show()\n"
   ]
  }
 ],
 "metadata": {
  "kernelspec": {
   "display_name": "Python (tf_env)",
   "language": "python",
   "name": "tf_env"
  },
  "language_info": {
   "codemirror_mode": {
    "name": "ipython",
    "version": 3
   },
   "file_extension": ".py",
   "mimetype": "text/x-python",
   "name": "python",
   "nbconvert_exporter": "python",
   "pygments_lexer": "ipython3",
   "version": "3.13.5"
  }
 },
 "nbformat": 4,
 "nbformat_minor": 5
}
