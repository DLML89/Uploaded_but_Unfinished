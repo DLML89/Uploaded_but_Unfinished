{
 "cells": [
  {
   "cell_type": "code",
   "execution_count": 1,
   "id": "7b790e34",
   "metadata": {},
   "outputs": [
    {
     "name": "stdout",
     "output_type": "stream",
     "text": [
      "✅ Connected!\n"
     ]
    }
   ],
   "source": [
    "import pymysql\n",
    "conn = pymysql.connect(\n",
    "     host=\"localhost\",   # or your server IP\n",
    "    port=3305,\n",
    "    user=\"root\",\n",
    "    password=\"$penceR07\",\n",
    "    database=\"stocks_db_TSLA\"\n",
    ")\n",
    "print(\"✅ Connected!\")"
   ]
  },
  {
   "cell_type": "code",
   "execution_count": null,
   "id": "71a5daf4",
   "metadata": {},
   "outputs": [],
   "source": []
  }
 ],
 "metadata": {
  "kernelspec": {
   "display_name": "ml_dl_env",
   "language": "python",
   "name": "python3"
  },
  "language_info": {
   "codemirror_mode": {
    "name": "ipython",
    "version": 3
   },
   "file_extension": ".py",
   "mimetype": "text/x-python",
   "name": "python",
   "nbconvert_exporter": "python",
   "pygments_lexer": "ipython3",
   "version": "3.12.11"
  }
 },
 "nbformat": 4,
 "nbformat_minor": 5
}
