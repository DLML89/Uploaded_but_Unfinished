{
 "cells": [
  {
   "cell_type": "code",
   "execution_count": 11,
   "id": "482ce5ab",
   "metadata": {},
   "outputs": [],
   "source": [
    "import os\n",
    "from datetime import datetime\n",
    "import pandas as pd\n",
    "import yfinance as yf\n",
    "import csv"
   ]
  },
  {
   "cell_type": "code",
   "execution_count": 12,
   "id": "9d5751c5",
   "metadata": {},
   "outputs": [],
   "source": [
    "def update_stock_csv_by_years(tickers, years, frequency='daily', folder='stocks_datasets'):\n",
    "    interval_map = {'daily': '1d', 'hourly': '1h'}\n",
    "    if frequency not in interval_map:\n",
    "        raise ValueError(\"Frequency must be 'daily' or 'hourly'\")\n",
    "\n",
    "    os.makedirs(folder, exist_ok=True)\n",
    "\n",
    "    for ticker in tickers:\n",
    "        all_years_data = []\n",
    "\n",
    "        # Download year by year\n",
    "        for year in years:\n",
    "            interval = interval_map[frequency]\n",
    "            start_date = f\"{year}-01-01\"\n",
    "            end_date = f\"{year + 1}-08-01\"\n",
    "\n",
    "            if frequency == 'hourly' and (datetime.today().year - year) > 2:\n",
    "                print(f\"⚠ Hourly data not available before ~2 years ago for {ticker} in {year}. Switching to daily.\")\n",
    "                interval = '1d'\n",
    "\n",
    "            try:\n",
    "                print(f\"🔄 Fetching {interval} data for {ticker} in {year}...\")\n",
    "                data = yf.download(ticker, start=start_date, end=end_date, interval=interval, progress=False)\n",
    "\n",
    "                if not data.empty:\n",
    "                    data.index = pd.to_datetime(data.index)\n",
    "                    data.index.name = \"Date\"\n",
    "                    all_years_data.append(data)\n",
    "                else:\n",
    "                    print(f\"⚠ No data for {ticker} in {year}\")\n",
    "            except Exception as e:\n",
    "                print(f\"❌ Error with {ticker} in {year}: {e}\")\n",
    "\n",
    "        if all_years_data:\n",
    "            new_data = pd.concat(all_years_data)\n",
    "            file_path = os.path.join(folder, f\"{ticker}.csv\")\n",
    "\n",
    "            if os.path.exists(file_path):\n",
    "                try:\n",
    "                    # Skip custom header rows\n",
    "                    old_data = pd.read_csv(file_path, skiprows=3, parse_dates=[\"Date\"], index_col=\"Date\")\n",
    "\n",
    "                    # Flatten MultiIndex if present\n",
    "                    if isinstance(old_data.columns, pd.MultiIndex):\n",
    "                        old_data.columns = [str(col[0]) for col in old_data.columns]\n",
    "\n",
    "                    # Ensure required columns exist\n",
    "                    required_cols = ['Adj Close', 'Close', 'High', 'Low', 'Open', 'Volume']\n",
    "                    for col in required_cols:\n",
    "                        if col not in old_data.columns:\n",
    "                            old_data[col] = pd.NA\n",
    "\n",
    "                except Exception as e:\n",
    "                    print(f\"❌ Could not read old data for {ticker}: {e}\")\n",
    "                    old_data = pd.DataFrame()\n",
    "\n",
    "                if not old_data.empty:\n",
    "                    combined = pd.concat([old_data, new_data])\n",
    "                    combined = combined[~combined.index.duplicated(keep=\"last\")]\n",
    "                else:\n",
    "                    combined = new_data\n",
    "            else:\n",
    "                combined = new_data\n",
    "\n",
    "            combined.sort_index(inplace=True)\n",
    "\n",
    "            # Keep only required columns in order\n",
    "            cols_order = ['Adj Close', 'Close', 'High', 'Low', 'Open', 'Volume']\n",
    "            cols_order_existing = [col for col in cols_order if col in combined.columns]\n",
    "            df_to_save = combined[cols_order_existing].copy()\n",
    "\n",
    "            # Rename 'Adj Close' → 'Price'\n",
    "            df_to_save.rename(columns={'Adj Close': 'Price'}, inplace=True)\n",
    "\n",
    "            # ✅ Flatten MultiIndex if needed\n",
    "            if isinstance(df_to_save.columns, pd.MultiIndex):\n",
    "                df_to_save.columns = [str(col[0]) for col in df_to_save.columns]\n",
    "            else:\n",
    "                df_to_save.columns = df_to_save.columns.astype(str)\n",
    "\n",
    "            # Write CSV in custom format\n",
    "            with open(file_path, 'w', newline='') as f:\n",
    "                writer = csv.writer(f)\n",
    "\n",
    "                # Row 1: Date + column names\n",
    "                writer.writerow(['Date'] + df_to_save.columns.tolist())\n",
    "\n",
    "                # Row 2: Ticker repeated\n",
    "                writer.writerow(['Ticker'] + [ticker] * len(df_to_save.columns))\n",
    "\n",
    "                # Row 3: Date + empty columns\n",
    "                writer.writerow(['Date'] + [''] * len(df_to_save.columns))\n",
    "\n",
    "                # Data rows\n",
    "                for idx, row in df_to_save.iterrows():\n",
    "                    writer.writerow([idx.strftime('%Y-%m-%d')] + list(row.values))\n",
    "\n",
    "            print(f\"✅ Updated {ticker}: {file_path}\")"
   ]
  },
  {
   "cell_type": "code",
   "execution_count": 13,
   "id": "397d5cf7",
   "metadata": {},
   "outputs": [
    {
     "name": "stdout",
     "output_type": "stream",
     "text": [
      "🔄 Fetching 1d data for ES=F in 2005...\n"
     ]
    },
    {
     "name": "stderr",
     "output_type": "stream",
     "text": [
      "C:\\Users\\spenc\\AppData\\Local\\Temp\\ipykernel_1616\\3602911811.py:23: FutureWarning: YF.download() has changed argument auto_adjust default to True\n",
      "  data = yf.download(ticker, start=start_date, end=end_date, interval=interval, progress=False)\n"
     ]
    },
    {
     "name": "stdout",
     "output_type": "stream",
     "text": [
      "🔄 Fetching 1d data for ES=F in 2006...\n"
     ]
    },
    {
     "name": "stderr",
     "output_type": "stream",
     "text": [
      "C:\\Users\\spenc\\AppData\\Local\\Temp\\ipykernel_1616\\3602911811.py:23: FutureWarning: YF.download() has changed argument auto_adjust default to True\n",
      "  data = yf.download(ticker, start=start_date, end=end_date, interval=interval, progress=False)\n"
     ]
    },
    {
     "name": "stdout",
     "output_type": "stream",
     "text": [
      "🔄 Fetching 1d data for ES=F in 2007...\n"
     ]
    },
    {
     "name": "stderr",
     "output_type": "stream",
     "text": [
      "C:\\Users\\spenc\\AppData\\Local\\Temp\\ipykernel_1616\\3602911811.py:23: FutureWarning: YF.download() has changed argument auto_adjust default to True\n",
      "  data = yf.download(ticker, start=start_date, end=end_date, interval=interval, progress=False)\n"
     ]
    },
    {
     "name": "stdout",
     "output_type": "stream",
     "text": [
      "🔄 Fetching 1d data for ES=F in 2008...\n"
     ]
    },
    {
     "name": "stderr",
     "output_type": "stream",
     "text": [
      "C:\\Users\\spenc\\AppData\\Local\\Temp\\ipykernel_1616\\3602911811.py:23: FutureWarning: YF.download() has changed argument auto_adjust default to True\n",
      "  data = yf.download(ticker, start=start_date, end=end_date, interval=interval, progress=False)\n"
     ]
    },
    {
     "name": "stdout",
     "output_type": "stream",
     "text": [
      "🔄 Fetching 1d data for ES=F in 2009...\n"
     ]
    },
    {
     "name": "stderr",
     "output_type": "stream",
     "text": [
      "C:\\Users\\spenc\\AppData\\Local\\Temp\\ipykernel_1616\\3602911811.py:23: FutureWarning: YF.download() has changed argument auto_adjust default to True\n",
      "  data = yf.download(ticker, start=start_date, end=end_date, interval=interval, progress=False)\n"
     ]
    },
    {
     "name": "stdout",
     "output_type": "stream",
     "text": [
      "🔄 Fetching 1d data for ES=F in 2010...\n"
     ]
    },
    {
     "name": "stderr",
     "output_type": "stream",
     "text": [
      "C:\\Users\\spenc\\AppData\\Local\\Temp\\ipykernel_1616\\3602911811.py:23: FutureWarning: YF.download() has changed argument auto_adjust default to True\n",
      "  data = yf.download(ticker, start=start_date, end=end_date, interval=interval, progress=False)\n"
     ]
    },
    {
     "name": "stdout",
     "output_type": "stream",
     "text": [
      "🔄 Fetching 1d data for ES=F in 2011...\n"
     ]
    },
    {
     "name": "stderr",
     "output_type": "stream",
     "text": [
      "C:\\Users\\spenc\\AppData\\Local\\Temp\\ipykernel_1616\\3602911811.py:23: FutureWarning: YF.download() has changed argument auto_adjust default to True\n",
      "  data = yf.download(ticker, start=start_date, end=end_date, interval=interval, progress=False)\n"
     ]
    },
    {
     "name": "stdout",
     "output_type": "stream",
     "text": [
      "🔄 Fetching 1d data for ES=F in 2012...\n"
     ]
    },
    {
     "name": "stderr",
     "output_type": "stream",
     "text": [
      "C:\\Users\\spenc\\AppData\\Local\\Temp\\ipykernel_1616\\3602911811.py:23: FutureWarning: YF.download() has changed argument auto_adjust default to True\n",
      "  data = yf.download(ticker, start=start_date, end=end_date, interval=interval, progress=False)\n"
     ]
    },
    {
     "name": "stdout",
     "output_type": "stream",
     "text": [
      "🔄 Fetching 1d data for ES=F in 2013...\n"
     ]
    },
    {
     "name": "stderr",
     "output_type": "stream",
     "text": [
      "C:\\Users\\spenc\\AppData\\Local\\Temp\\ipykernel_1616\\3602911811.py:23: FutureWarning: YF.download() has changed argument auto_adjust default to True\n",
      "  data = yf.download(ticker, start=start_date, end=end_date, interval=interval, progress=False)\n"
     ]
    },
    {
     "name": "stdout",
     "output_type": "stream",
     "text": [
      "🔄 Fetching 1d data for ES=F in 2014...\n"
     ]
    },
    {
     "name": "stderr",
     "output_type": "stream",
     "text": [
      "C:\\Users\\spenc\\AppData\\Local\\Temp\\ipykernel_1616\\3602911811.py:23: FutureWarning: YF.download() has changed argument auto_adjust default to True\n",
      "  data = yf.download(ticker, start=start_date, end=end_date, interval=interval, progress=False)\n"
     ]
    },
    {
     "name": "stdout",
     "output_type": "stream",
     "text": [
      "🔄 Fetching 1d data for ES=F in 2015...\n",
      "🔄 Fetching 1d data for ES=F in 2016...\n"
     ]
    },
    {
     "name": "stderr",
     "output_type": "stream",
     "text": [
      "C:\\Users\\spenc\\AppData\\Local\\Temp\\ipykernel_1616\\3602911811.py:23: FutureWarning: YF.download() has changed argument auto_adjust default to True\n",
      "  data = yf.download(ticker, start=start_date, end=end_date, interval=interval, progress=False)\n",
      "C:\\Users\\spenc\\AppData\\Local\\Temp\\ipykernel_1616\\3602911811.py:23: FutureWarning: YF.download() has changed argument auto_adjust default to True\n",
      "  data = yf.download(ticker, start=start_date, end=end_date, interval=interval, progress=False)\n"
     ]
    },
    {
     "name": "stdout",
     "output_type": "stream",
     "text": [
      "🔄 Fetching 1d data for ES=F in 2017...\n"
     ]
    },
    {
     "name": "stderr",
     "output_type": "stream",
     "text": [
      "C:\\Users\\spenc\\AppData\\Local\\Temp\\ipykernel_1616\\3602911811.py:23: FutureWarning: YF.download() has changed argument auto_adjust default to True\n",
      "  data = yf.download(ticker, start=start_date, end=end_date, interval=interval, progress=False)\n"
     ]
    },
    {
     "name": "stdout",
     "output_type": "stream",
     "text": [
      "🔄 Fetching 1d data for ES=F in 2018...\n",
      "🔄 Fetching 1d data for ES=F in 2019...\n"
     ]
    },
    {
     "name": "stderr",
     "output_type": "stream",
     "text": [
      "C:\\Users\\spenc\\AppData\\Local\\Temp\\ipykernel_1616\\3602911811.py:23: FutureWarning: YF.download() has changed argument auto_adjust default to True\n",
      "  data = yf.download(ticker, start=start_date, end=end_date, interval=interval, progress=False)\n",
      "C:\\Users\\spenc\\AppData\\Local\\Temp\\ipykernel_1616\\3602911811.py:23: FutureWarning: YF.download() has changed argument auto_adjust default to True\n",
      "  data = yf.download(ticker, start=start_date, end=end_date, interval=interval, progress=False)\n"
     ]
    },
    {
     "name": "stdout",
     "output_type": "stream",
     "text": [
      "🔄 Fetching 1d data for ES=F in 2020...\n"
     ]
    },
    {
     "name": "stderr",
     "output_type": "stream",
     "text": [
      "C:\\Users\\spenc\\AppData\\Local\\Temp\\ipykernel_1616\\3602911811.py:23: FutureWarning: YF.download() has changed argument auto_adjust default to True\n",
      "  data = yf.download(ticker, start=start_date, end=end_date, interval=interval, progress=False)\n"
     ]
    },
    {
     "name": "stdout",
     "output_type": "stream",
     "text": [
      "🔄 Fetching 1d data for ES=F in 2021...\n",
      "🔄 Fetching 1d data for ES=F in 2022...\n"
     ]
    },
    {
     "name": "stderr",
     "output_type": "stream",
     "text": [
      "C:\\Users\\spenc\\AppData\\Local\\Temp\\ipykernel_1616\\3602911811.py:23: FutureWarning: YF.download() has changed argument auto_adjust default to True\n",
      "  data = yf.download(ticker, start=start_date, end=end_date, interval=interval, progress=False)\n",
      "C:\\Users\\spenc\\AppData\\Local\\Temp\\ipykernel_1616\\3602911811.py:23: FutureWarning: YF.download() has changed argument auto_adjust default to True\n",
      "  data = yf.download(ticker, start=start_date, end=end_date, interval=interval, progress=False)\n"
     ]
    },
    {
     "name": "stdout",
     "output_type": "stream",
     "text": [
      "🔄 Fetching 1d data for ES=F in 2023...\n"
     ]
    },
    {
     "name": "stderr",
     "output_type": "stream",
     "text": [
      "C:\\Users\\spenc\\AppData\\Local\\Temp\\ipykernel_1616\\3602911811.py:23: FutureWarning: YF.download() has changed argument auto_adjust default to True\n",
      "  data = yf.download(ticker, start=start_date, end=end_date, interval=interval, progress=False)\n"
     ]
    },
    {
     "name": "stdout",
     "output_type": "stream",
     "text": [
      "🔄 Fetching 1d data for ES=F in 2024...\n"
     ]
    },
    {
     "name": "stderr",
     "output_type": "stream",
     "text": [
      "C:\\Users\\spenc\\AppData\\Local\\Temp\\ipykernel_1616\\3602911811.py:23: FutureWarning: YF.download() has changed argument auto_adjust default to True\n",
      "  data = yf.download(ticker, start=start_date, end=end_date, interval=interval, progress=False)\n"
     ]
    },
    {
     "name": "stdout",
     "output_type": "stream",
     "text": [
      "❌ Could not read old data for ES=F: Missing column provided to 'parse_dates': 'Date'\n",
      "✅ Updated ES=F: stocks_datasets\\ES=F.csv\n"
     ]
    }
   ],
   "source": [
    "update_stock_csv_by_years(\n",
    "    tickers=[\"ES=F\"],\n",
    "    years=range(2005, 2025),\n",
    "    frequency=\"daily\"\n",
    ")"
   ]
  }
 ],
 "metadata": {
  "kernelspec": {
   "display_name": "ds_ml_env",
   "language": "python",
   "name": "python3"
  },
  "language_info": {
   "codemirror_mode": {
    "name": "ipython",
    "version": 3
   },
   "file_extension": ".py",
   "mimetype": "text/x-python",
   "name": "python",
   "nbconvert_exporter": "python",
   "pygments_lexer": "ipython3",
   "version": "3.13.5"
  }
 },
 "nbformat": 4,
 "nbformat_minor": 5
}
